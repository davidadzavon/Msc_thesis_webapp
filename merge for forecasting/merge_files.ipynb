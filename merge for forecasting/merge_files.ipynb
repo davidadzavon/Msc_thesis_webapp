{
 "cells": [
  {
   "cell_type": "code",
   "execution_count": 2,
   "metadata": {},
   "outputs": [
    {
     "name": "stderr",
     "output_type": "stream",
     "text": [
      "/tmp/ipykernel_648221/1645679654.py:18: UserWarning: Converting to PeriodArray/Index representation will drop timezone information.\n",
      "  res = pd.merge(conflict_df.assign(grouper=conflict_df[\"Date\"].dt.to_period('M')),\n",
      "/tmp/ipykernel_648221/1645679654.py:19: UserWarning: Converting to PeriodArray/Index representation will drop timezone information.\n",
      "  IDP_df.assign(grouper=IDP_df[\"Date\"].dt.to_period('M')),\n"
     ]
    },
    {
     "data": {
      "text/html": [
       "<div>\n",
       "<style scoped>\n",
       "    .dataframe tbody tr th:only-of-type {\n",
       "        vertical-align: middle;\n",
       "    }\n",
       "\n",
       "    .dataframe tbody tr th {\n",
       "        vertical-align: top;\n",
       "    }\n",
       "\n",
       "    .dataframe thead th {\n",
       "        text-align: right;\n",
       "    }\n",
       "</style>\n",
       "<table border=\"1\" class=\"dataframe\">\n",
       "  <thead>\n",
       "    <tr style=\"text-align: right;\">\n",
       "      <th></th>\n",
       "      <th>Date_x</th>\n",
       "      <th>SUM_CONFLICTS</th>\n",
       "      <th>Internal Displced People</th>\n",
       "    </tr>\n",
       "  </thead>\n",
       "  <tbody>\n",
       "    <tr>\n",
       "      <th>0</th>\n",
       "      <td>2018-01-01 00:00:00+00:00</td>\n",
       "      <td>11</td>\n",
       "      <td>NaN</td>\n",
       "    </tr>\n",
       "    <tr>\n",
       "      <th>1</th>\n",
       "      <td>2018-02-01 00:00:00+00:00</td>\n",
       "      <td>10</td>\n",
       "      <td>NaN</td>\n",
       "    </tr>\n",
       "    <tr>\n",
       "      <th>2</th>\n",
       "      <td>2018-03-01 00:00:00+00:00</td>\n",
       "      <td>18</td>\n",
       "      <td>NaN</td>\n",
       "    </tr>\n",
       "    <tr>\n",
       "      <th>3</th>\n",
       "      <td>2018-04-01 00:00:00+00:00</td>\n",
       "      <td>28</td>\n",
       "      <td>NaN</td>\n",
       "    </tr>\n",
       "    <tr>\n",
       "      <th>4</th>\n",
       "      <td>2018-05-01 00:00:00+00:00</td>\n",
       "      <td>23</td>\n",
       "      <td>NaN</td>\n",
       "    </tr>\n",
       "    <tr>\n",
       "      <th>5</th>\n",
       "      <td>2018-06-01 00:00:00+00:00</td>\n",
       "      <td>15</td>\n",
       "      <td>NaN</td>\n",
       "    </tr>\n",
       "    <tr>\n",
       "      <th>6</th>\n",
       "      <td>2018-07-01 00:00:00+00:00</td>\n",
       "      <td>16</td>\n",
       "      <td>558.0</td>\n",
       "    </tr>\n",
       "    <tr>\n",
       "      <th>7</th>\n",
       "      <td>2018-08-01 00:00:00+00:00</td>\n",
       "      <td>21</td>\n",
       "      <td>3335.0</td>\n",
       "    </tr>\n",
       "    <tr>\n",
       "      <th>8</th>\n",
       "      <td>2018-09-01 00:00:00+00:00</td>\n",
       "      <td>50</td>\n",
       "      <td>669.0</td>\n",
       "    </tr>\n",
       "    <tr>\n",
       "      <th>9</th>\n",
       "      <td>2018-10-01 00:00:00+00:00</td>\n",
       "      <td>60</td>\n",
       "      <td>NaN</td>\n",
       "    </tr>\n",
       "    <tr>\n",
       "      <th>10</th>\n",
       "      <td>2018-11-01 00:00:00+00:00</td>\n",
       "      <td>87</td>\n",
       "      <td>NaN</td>\n",
       "    </tr>\n",
       "    <tr>\n",
       "      <th>11</th>\n",
       "      <td>2018-12-01 00:00:00+00:00</td>\n",
       "      <td>62</td>\n",
       "      <td>NaN</td>\n",
       "    </tr>\n",
       "  </tbody>\n",
       "</table>\n",
       "</div>"
      ],
      "text/plain": [
       "                      Date_x  SUM_CONFLICTS  Internal Displced People\n",
       "0  2018-01-01 00:00:00+00:00             11                       NaN\n",
       "1  2018-02-01 00:00:00+00:00             10                       NaN\n",
       "2  2018-03-01 00:00:00+00:00             18                       NaN\n",
       "3  2018-04-01 00:00:00+00:00             28                       NaN\n",
       "4  2018-05-01 00:00:00+00:00             23                       NaN\n",
       "5  2018-06-01 00:00:00+00:00             15                       NaN\n",
       "6  2018-07-01 00:00:00+00:00             16                     558.0\n",
       "7  2018-08-01 00:00:00+00:00             21                    3335.0\n",
       "8  2018-09-01 00:00:00+00:00             50                     669.0\n",
       "9  2018-10-01 00:00:00+00:00             60                       NaN\n",
       "10 2018-11-01 00:00:00+00:00             87                       NaN\n",
       "11 2018-12-01 00:00:00+00:00             62                       NaN"
      ]
     },
     "execution_count": 2,
     "metadata": {},
     "output_type": "execute_result"
    }
   ],
   "source": [
    "import pandas as pd\n",
    "import numpy as np\n",
    "\n",
    "\n",
    "conflict_df = pd.read_excel(\"/home/adzavon/Documents/MSC_Data_Analysis/merge for forecasting/conflicts_s__um.xlsx\")\n",
    "IDP_df = pd.read_excel(\"/home/adzavon/Documents/MSC_Data_Analysis/merge for forecasting/Sum_months_IDP.xlsx\")\n",
    "\n",
    "conflict_df[\"Date\"] = conflict_df[\"Date\"].dt.strftime('%m-%d-%Y')\n",
    "IDP_df[\"Date\"] = IDP_df[\"Date\"].dt.strftime('%m-%d-%Y')\n",
    "conflict_df[\"Date\"] = pd.to_datetime(conflict_df[\"Date\"], utc=True)\n",
    "IDP_df[\"Date\"] = pd.to_datetime(IDP_df[\"Date\"], utc=True)\n",
    "\n",
    "# conflict_df\n",
    "# IDP_df\n",
    "# merge_data = pd.merge(conflict_df, IDP_df, on=\"Date\")\n",
    "# merge_data\n",
    "\n",
    "res = pd.merge(conflict_df.assign(grouper=conflict_df[\"Date\"].dt.to_period('M')),\n",
    "               IDP_df.assign(grouper=IDP_df[\"Date\"].dt.to_period('M')),\n",
    "               how='left', on='grouper')\n",
    "data = res[['Date_x','SUM_CONFLICTS','Internal Displced People']]\n",
    "data.head(12)\n",
    "#data.tail(12)\n"
   ]
  },
  {
   "cell_type": "code",
   "execution_count": 57,
   "metadata": {},
   "outputs": [],
   "source": [
    "data_new = data.dropna()\n",
    "x = data_new[\"SUM_CONFLICTS\"]\n",
    "y = data_new[\"Internal Displced People\"]"
   ]
  },
  {
   "cell_type": "code",
   "execution_count": 58,
   "metadata": {},
   "outputs": [
    {
     "data": {
      "text/plain": [
       "array([[1.       , 0.7998769],\n",
       "       [0.7998769, 1.       ]])"
      ]
     },
     "execution_count": 58,
     "metadata": {},
     "output_type": "execute_result"
    }
   ],
   "source": [
    "r = np.corrcoef(x, y)\n",
    "r"
   ]
  },
  {
   "cell_type": "code",
   "execution_count": null,
   "metadata": {},
   "outputs": [],
   "source": []
  },
  {
   "cell_type": "code",
   "execution_count": null,
   "metadata": {},
   "outputs": [],
   "source": []
  }
 ],
 "metadata": {
  "kernelspec": {
   "display_name": "Python 3 (ipykernel)",
   "language": "python",
   "name": "python3"
  },
  "language_info": {
   "codemirror_mode": {
    "name": "ipython",
    "version": 3
   },
   "file_extension": ".py",
   "mimetype": "text/x-python",
   "name": "python",
   "nbconvert_exporter": "python",
   "pygments_lexer": "ipython3",
   "version": "3.10.9"
  },
  "vscode": {
   "interpreter": {
    "hash": "0666006bbc1a7ef306406a8146ab0213b71e0870da88a4b2206930d8b51906d3"
   }
  }
 },
 "nbformat": 4,
 "nbformat_minor": 2
}
