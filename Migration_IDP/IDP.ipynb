{
 "cells": [
  {
   "cell_type": "code",
   "execution_count": 1,
   "metadata": {},
   "outputs": [],
   "source": [
    "import pandas  as pd\n",
    "\n",
    "\n",
    "# dataset = pd.read_excel(\"/home/adzavon/Documents/MSC_Data_Analysis/Migration_IDP/situation-des-pdi-par-communes-31-octobre-2022pcodes - Copy.xlsx\")\n",
    "# #dataset['Date'] = dataset['Date'].dt.strftime('%b-%y')\n",
    "# IDP_data = dataset[[\"Date\",\"Region\",\"PDI\"]]\n",
    "# IDP_data[\"Regions\"] = IDP_data[\"Region\"].str.lower()\n",
    "# IDP_data_new = IDP_data[[\"Date\",\"Regions\",\"PDI\"]]\n",
    "# IDP_data_new_null = IDP_data_new.dropna()\n",
    "# IDP_data_new_null[\"Internal Displced People\"] = IDP_data_new_null[\"PDI\"].astype(int)\n",
    "# Arranged_IDP_data = IDP_data_new_null[[\"Date\",\"Regions\",\"Internal Displced People\"]]\n",
    "# Arranging = Arranged_IDP_data.groupby([\"Date\"]).sum()\n",
    "# Arranging.to_excel(\"/home/adzavon/Documents/MSC_Data_Analysis/Migration_IDP/Final_working_data.xlsx\")"
   ]
  },
  {
   "cell_type": "code",
   "execution_count": 2,
   "metadata": {},
   "outputs": [],
   "source": [
    "# Import the working  for the Internal displacements\n",
    "import plotly.express as px\n",
    "import pandas as pd\n",
    "dataset_IDP = pd.read_csv(\"/home/adzavon/Documents/MSC_Data_Analysis/merge for forecasting/second_to_forecast (another copy).csv\")\n",
    "\n",
    "# fill the missing values in \"Floods\",\"Storms\" by \"0\"\n",
    "dataset_IDP[[\"Floods\",\"Storms\"]] = dataset_IDP[[\"Floods\",\"Storms\"]].fillna(\"0\")\n",
    "\n",
    "\n",
    "# change \"Floods\",\"Storms\" data type into intger\n",
    "\n",
    "dataset_IDP[\"Floods\"] = dataset_IDP[\"Floods\"].astype(int)\n",
    "dataset_IDP[\"Storms\"] = dataset_IDP[\"Storms\"].astype(int)\n",
    "\n",
    "#linear method to fill the missang value\n",
    "# data_cut = data_cut.fillna(method=\"ffill\")\n",
    "dataset_IDP = dataset_IDP.interpolate(method ='linear', limit_direction ='forward')\n",
    "dataset_IDP[\"Internal Displaced People\"] = dataset_IDP[\"Internal Displaced People\"].astype(int)\n",
    "\n",
    "\n",
    "# fig = px.scatter(dataset_IDP,\n",
    "#                     x=\"EVENT_DATE\", \n",
    "#                     y=\"Internal Displced People\",\n",
    "#                     trendline = 'ols',\n",
    "#                     trendline_color_override='darkblue')\n",
    "\n",
    "# fig.show()\n",
    "\n"
   ]
  },
  {
   "cell_type": "code",
   "execution_count": 3,
   "metadata": {},
   "outputs": [],
   "source": [
    "import plotly.express as px\n",
    "dataset_IDP['EVENT_DATE'] = pd.to_datetime(dataset_IDP['EVENT_DATE'])\n",
    "fig = px.scatter(dataset_IDP,\n",
    "                    x=\"EVENT_DATE\", \n",
    "                    y=\"Internal Displaced People\",\n",
    "                    trendline='ols',\n",
    "                   \n",
    "                    trendline_color_override='darkblue')\n",
    "fig.update_xaxes(showline = True, linecolor = 'black', linewidth = 1, row = 1, col = 1,)\n",
    "fig.update_yaxes(showline = True, linecolor = 'black', linewidth = 1, row = 1, col = 1,)\n",
    "\n",
    "fig.update_layout(\n",
    "    title={\n",
    "        'text': \"Internal Displaced People over Time\",\n",
    "        'font': {'family': 'Times New Roman', 'size': 24, 'color': 'black'},\n",
    "        'x': 0.5,\n",
    "        'xanchor': 'center'},\n",
    "    xaxis_title={\n",
    "        'text': \"Date\",\n",
    "        'font': {'family': 'Times New Roman', 'size': 18, 'color': 'black'}},\n",
    "    yaxis_title={\n",
    "        'text': \"Internal Displaced People \",\n",
    "        'font': {'family': 'Times New Roman', 'size': 18, 'color': 'black'}},\n",
    "    font=dict(family=\"Times New Roman\", size=14, color='black')\n",
    ")\n",
    "\n",
    "fig.show()\n"
   ]
  },
  {
   "cell_type": "code",
   "execution_count": 4,
   "metadata": {},
   "outputs": [],
   "source": [
    "import plotly.express as px\n",
    "Region_IDP = pd.read_excel(\"/home/adzavon/Documents/MSC_Data_Analysis/Migration_IDP/Regions_months_IDP.xlsx\")\n",
    "Region_IDP[\"Regions\"] = Region_IDP[\"Regions\"].replace([\"centre-nord\"],\"Centre-Nord\")\n",
    "Region_IDP[\"Regions\"] = Region_IDP[\"Regions\"].replace([\"nord\"],\"Nord\")\n",
    "Region_IDP[\"Regions\"] = Region_IDP[\"Regions\"].replace([\"centre\"],\"Centre\")\n",
    "Region_IDP[\"Regions\"] = Region_IDP[\"Regions\"].replace([\"sahel\"],\"Sahel\")\n",
    "Region_IDP[\"Regions\"] = Region_IDP[\"Regions\"].replace([\"est\"],\"Est\")\n",
    "Region_IDP[\"Regions\"] = Region_IDP[\"Regions\"].replace([\"boucle du mouhoun\"],\"Boucle du Mouhoun\")\n",
    "Region_IDP[\"Regions\"] = Region_IDP[\"Regions\"].replace([\"cascades\"],\"Cascades\")\n",
    "Region_IDP[\"Regions\"] = Region_IDP[\"Regions\"].replace([\"centre-est\"],\"Centre-Est\")\n",
    "Region_IDP[\"Regions\"] = Region_IDP[\"Regions\"].replace([\"centre-ouest\"],\"Centre-Ouest\")\n",
    "Region_IDP[\"Regions\"] = Region_IDP[\"Regions\"].replace([\"centre-sud\"],\"Centre-Sud\")\n",
    "Region_IDP[\"Regions\"] = Region_IDP[\"Regions\"].replace([\"hauts-bassins\"],\"Hauts-Bassins\")\n",
    "Region_IDP[\"Regions\"] = Region_IDP[\"Regions\"].replace([\"plateau central\"],\"Plateau Central\")\n",
    "Region_IDP[\"Regions\"] = Region_IDP[\"Regions\"].replace([\"sud-ouest\"],\"Sud-Ouest\")"
   ]
  },
  {
   "cell_type": "code",
   "execution_count": 5,
   "metadata": {},
   "outputs": [
    {
     "data": {
      "application/vnd.plotly.v1+json": {
       "config": {
        "plotlyServerURL": "https://plot.ly"
       },
       "data": [
        {
         "hovertemplate": "Regions=%{x}<br>Internal Displced People=%{y}<extra></extra>",
         "legendgroup": "",
         "marker": {
          "color": "#636efa",
          "symbol": "circle"
         },
         "mode": "markers",
         "name": "",
         "orientation": "v",
         "showlegend": false,
         "type": "scatter",
         "x": [
          "Nord",
          "Centre-Nord",
          "Centre-Nord",
          "Centre",
          "Centre-Nord",
          "Nord",
          "Sahel",
          "Centre",
          "Centre-Nord",
          "Nord",
          "Sahel",
          "Centre",
          "Centre-Nord",
          "Est",
          "Nord",
          "Sahel",
          "Centre-Nord",
          "Sahel",
          "Boucle du Mouhoun",
          "Centre",
          "Centre-Nord",
          "Est",
          "Nord",
          "Sahel",
          "Boucle du Mouhoun",
          "Cascades",
          "Centre",
          "Centre-Est",
          "Centre-Nord",
          "Centre-Ouest",
          "Centre-Sud",
          "Est",
          "Hauts-Bassins",
          "Nord",
          "Plateau Central",
          "Sahel",
          "Sud-Ouest",
          "Boucle du Mouhoun",
          "Cascades",
          "Centre",
          "Centre-Est",
          "Centre-Nord",
          "Centre-Ouest",
          "Centre-Sud",
          "Est",
          "Hauts-Bassins",
          "Nord",
          "Plateau Central",
          "Sahel",
          "Sud-Ouest",
          "Boucle du Mouhoun",
          "Cascades",
          "Centre",
          "Centre-Est",
          "Centre-Nord",
          "Centre-Ouest",
          "Centre-Sud",
          "Est",
          "Hauts-Bassins",
          "Nord",
          "Plateau Central",
          "Sahel",
          "Sud-Ouest",
          "Boucle du Mouhoun",
          "Cascades",
          "Centre",
          "Centre-Est",
          "Centre-Nord",
          "Centre-Ouest",
          "Centre-Sud",
          "Est",
          "Hauts-Bassins",
          "Nord",
          "Plateau Central",
          "Sahel",
          "Sud-Ouest",
          "Boucle du Mouhoun",
          "Cascades",
          "Centre",
          "Centre-Est",
          "Centre-Nord",
          "Centre-Ouest",
          "Centre-Sud",
          "Est",
          "Hauts-Bassins",
          "Nord",
          "Plateau Central",
          "Sahel",
          "Sud-Ouest",
          "Boucle du Mouhoun",
          "Cascades",
          "Centre",
          "Centre-Est",
          "Centre-Nord",
          "Centre-Ouest",
          "Centre-Sud",
          "Est",
          "Hauts-Bassins",
          "Nord",
          "Plateau Central",
          "Sahel",
          "Sud-Ouest",
          "Boucle du Mouhoun",
          "Cascades",
          "Centre",
          "Centre-Est",
          "Centre-Nord",
          "Centre-Ouest",
          "Centre-Sud",
          "Est",
          "Hauts-Bassins",
          "Nord",
          "Plateau Central",
          "Sahel",
          "Sud-Ouest",
          "Boucle du Mouhoun",
          "Cascades",
          "Centre",
          "Centre-Est",
          "Centre-Nord",
          "Centre-Ouest",
          "Centre-Sud",
          "Est",
          "Hauts-Bassins",
          "Nord",
          "Plateau Central",
          "Sahel",
          "Sud-Ouest",
          "Boucle du Mouhoun",
          "Cascades",
          "Centre",
          "Centre-Est",
          "Centre-Nord",
          "Centre-Ouest",
          "Centre-Sud",
          "Est",
          "Hauts-Bassins",
          "Nord",
          "Plateau Central",
          "Sahel",
          "Sud-Ouest",
          "Boucle du Mouhoun",
          "Cascades",
          "Centre",
          "Centre-Est",
          "Centre-Nord",
          "Centre-Ouest",
          "Centre-Sud",
          "Est",
          "Hauts-Bassins",
          "Nord",
          "Plateau Central",
          "Sahel",
          "Sud-Ouest",
          "Boucle du Mouhoun",
          "Cascades",
          "Centre",
          "Centre-Est",
          "Centre-Nord",
          "Centre-Ouest",
          "Centre-Sud",
          "Est",
          "Hauts-Bassins",
          "Nord",
          "Plateau Central",
          "Sahel",
          "Sud-Ouest",
          "Boucle du Mouhoun",
          "Cascades",
          "Centre",
          "Centre-Est",
          "Centre-Nord",
          "Centre-Ouest",
          "Centre-Sud",
          "Est",
          "Hauts-Bassins",
          "Nord",
          "Plateau Central",
          "Sahel",
          "Sud-Ouest",
          "Boucle du Mouhoun",
          "Cascades",
          "Centre",
          "Centre-Est",
          "Centre-Nord",
          "Centre-Ouest",
          "Centre-Sud",
          "Est",
          "Hauts-Bassins",
          "Nord",
          "Plateau Central",
          "Sahel",
          "Sud-Ouest",
          "Boucle du Mouhoun",
          "Cascades",
          "Centre",
          "Centre-Est",
          "Centre-Nord",
          "Centre-Ouest",
          "Centre-Sud",
          "Est",
          "Hauts-Bassins",
          "Nord",
          "Plateau Central",
          "Sahel",
          "Sud-Ouest",
          "Boucle du Mouhoun",
          "Cascades",
          "Centre",
          "Centre-Est",
          "Centre-Nord",
          "Centre-Ouest",
          "Centre-Sud",
          "Est",
          "Hauts-Bassins",
          "Nord",
          "Plateau Central",
          "Sahel",
          "Sud-Ouest",
          "Boucle du Mouhoun",
          "Cascades",
          "Centre",
          "Centre-Est",
          "Centre-Nord",
          "Centre-Ouest",
          "Centre-Sud",
          "Est",
          "Hauts-Bassins",
          "Nord",
          "Plateau Central",
          "Sahel",
          "Sud-Ouest",
          "Boucle du Mouhoun",
          "Cascades",
          "Centre",
          "Centre-Est",
          "Centre-Nord",
          "Centre-Ouest",
          "Centre-Sud",
          "Est",
          "Hauts-Bassins",
          "Nord",
          "Plateau Central",
          "Sahel",
          "Sud-Ouest",
          "Boucle du Mouhoun",
          "Cascades",
          "Centre",
          "Centre-Est",
          "Centre-Nord",
          "Centre-Ouest",
          "Centre-Sud",
          "Est",
          "Hauts-Bassins",
          "Nord",
          "Plateau Central",
          "Sahel",
          "Sud-Ouest",
          "Boucle du Mouhoun",
          "Cascades",
          "Centre",
          "Centre-Est",
          "Centre-Nord",
          "Centre-Ouest",
          "Centre-Sud",
          "Est",
          "Hauts-Bassins",
          "Nord",
          "Plateau Central",
          "Sahel",
          "Sud-Ouest",
          "Boucle du Mouhoun",
          "Cascades",
          "Centre",
          "Centre-Est",
          "Centre-Nord",
          "Centre-Ouest",
          "Centre-Sud",
          "Est",
          "Hauts-Bassins",
          "Nord",
          "Plateau Central",
          "Sahel",
          "Sud-Ouest",
          "Boucle du Mouhoun",
          "Cascades",
          "Centre",
          "Centre-Est",
          "Centre-Nord",
          "Centre-Ouest",
          "Centre-Sud",
          "Est",
          "Hauts-Bassins",
          "Nord",
          "Plateau Central",
          "Sahel",
          "Sud-Ouest",
          "Boucle du Mouhoun",
          "Cascades",
          "Centre",
          "Centre-Est",
          "Centre-Nord",
          "Centre-Ouest",
          "Centre-Sud",
          "Est",
          "Hauts-Bassins",
          "Nord",
          "Plateau Central",
          "Sahel",
          "Sud-Ouest",
          "Boucle du Mouhoun",
          "Cascades",
          "Centre",
          "Centre-Est",
          "Centre-Nord",
          "Centre-Ouest",
          "Centre-Sud",
          "Est",
          "Hauts-Bassins",
          "Nord",
          "Plateau Central",
          "Sahel",
          "Sud-Ouest",
          "Boucle du Mouhoun",
          "Cascades",
          "Centre",
          "Centre-Est",
          "Centre-Nord",
          "Centre-Ouest",
          "Centre-Sud",
          "Est",
          "Hauts-Bassins",
          "Nord",
          "Plateau Central",
          "Sahel",
          "Sud-Ouest",
          "Boucle du Mouhoun",
          "Cascades",
          "Centre",
          "Centre-Est",
          "Centre-Nord",
          "Centre-Ouest",
          "Centre-Sud",
          "Est",
          "Hauts-Bassins",
          "Nord",
          "Plateau Central",
          "Sahel",
          "Sud-Ouest",
          "Boucle du Mouhoun",
          "Cascades",
          "Centre",
          "Centre-Est",
          "Centre-Nord",
          "Centre-Ouest",
          "Centre-Sud",
          "Est",
          "Hauts-Bassins",
          "Nord",
          "Plateau Central",
          "Sahel",
          "Sud-Ouest",
          "Boucle du Mouhoun",
          "Cascades",
          "Centre",
          "Centre-Est",
          "Centre-Nord",
          "Centre-Ouest",
          "Centre-Sud",
          "Est",
          "Hauts-Bassins",
          "Nord",
          "Plateau Central",
          "Sahel",
          "Sud-Ouest",
          "Boucle du Mouhoun",
          "Cascades",
          "Centre",
          "Centre-Est",
          "Centre-Nord",
          "Centre-Ouest",
          "Centre-Sud",
          "Est",
          "Hauts-Bassins",
          "Nord",
          "Plateau Central",
          "Sahel",
          "Sud-Ouest",
          "Boucle du Mouhoun",
          "Cascades",
          "Centre",
          "Centre-Est",
          "Centre-Nord",
          "Centre-Ouest",
          "Centre-Sud",
          "Est",
          "Hauts-Bassins",
          "Nord",
          "Plateau Central",
          "Sahel",
          "Sud-Ouest",
          "Boucle du Mouhoun",
          "Cascades",
          "Centre",
          "Centre-Est",
          "Centre-Nord",
          "Centre-Ouest",
          "Centre-Sud",
          "Est",
          "Hauts-Bassins",
          "Nord",
          "Plateau Central",
          "Sahel",
          "Sud-Ouest",
          "Boucle du Mouhoun",
          "Cascades",
          "Centre",
          "Centre-Est",
          "Centre-Nord",
          "Centre-Ouest",
          "Centre-Sud",
          "Est",
          "Hauts-Bassins",
          "Nord",
          "Plateau Central",
          "Sahel",
          "Sud-Ouest",
          "Boucle du Mouhoun",
          "Cascades",
          "Centre",
          "Centre-Est",
          "Centre-Nord",
          "Centre-Ouest",
          "Centre-Sud",
          "Est",
          "Hauts-Bassins",
          "Nord",
          "Plateau Central",
          "Sahel",
          "Sud-Ouest",
          "Boucle du Mouhoun",
          "Cascades",
          "Centre",
          "Centre-Est",
          "Centre-Nord",
          "Centre-Ouest",
          "Centre-Sud",
          "Est",
          "Hauts-Bassins",
          "Nord",
          "Plateau Central",
          "Sahel",
          "Sud-Ouest",
          "Boucle du Mouhoun",
          "Cascades",
          "Centre",
          "Centre-Est",
          "Centre-Nord",
          "Centre-Ouest",
          "Centre-Sud",
          "Est",
          "Hauts-Bassins",
          "Nord",
          "Plateau Central",
          "Sahel",
          "Sud-Ouest",
          "Boucle du Mouhoun",
          "Cascades",
          "Centre",
          "Centre-Est",
          "Centre-Nord",
          "Centre-Ouest",
          "Centre-Sud",
          "Est",
          "Hauts-Bassins",
          "Nord",
          "Plateau Central",
          "Sahel",
          "Sud-Ouest",
          "Boucle du Mouhoun",
          "Cascades",
          "Centre",
          "Centre-Est",
          "Centre-Nord",
          "Centre-Ouest",
          "Centre-Sud",
          "Est",
          "Hauts-Bassins",
          "Nord",
          "Plateau Central",
          "Sahel",
          "Sud-Ouest"
         ],
         "xaxis": "x",
         "y": [
          558,
          3335,
          669,
          0,
          14964,
          2462,
          64538,
          431,
          27547,
          4072,
          80007,
          431,
          32542,
          2529,
          5078,
          95009,
          200,
          161017,
          100,
          431,
          53973,
          3158,
          5578,
          108754,
          120,
          268,
          1051,
          466,
          80103,
          636,
          113,
          3584,
          468,
          9978,
          272,
          122473,
          224,
          8577,
          268,
          1051,
          129,
          82660,
          636,
          101,
          3584,
          558,
          10058,
          2429,
          127477,
          241,
          8577,
          268,
          1051,
          145,
          119798,
          636,
          101,
          10293,
          558,
          14356,
          2573,
          130353,
          285,
          8577,
          268,
          1051,
          145,
          119798,
          636,
          101,
          10293,
          558,
          14356,
          2598,
          130925,
          285,
          8588,
          268,
          1051,
          145,
          270476,
          635,
          101,
          10293,
          558,
          31998,
          1222,
          160741,
          284,
          8737,
          268,
          1051,
          555,
          270476,
          635,
          1773,
          17484,
          3510,
          38244,
          4718,
          212298,
          284,
          10662,
          268,
          1051,
          555,
          316812,
          635,
          1773,
          18329,
          4011,
          42396,
          4718,
          212298,
          284,
          10662,
          268,
          1051,
          13372,
          383925,
          635,
          1773,
          18329,
          4011,
          42396,
          5765,
          283046,
          284,
          11350,
          268,
          1051,
          13372,
          385107,
          635,
          1773,
          18329,
          6365,
          52396,
          5765,
          283046,
          284,
          14548,
          5845,
          1051,
          13372,
          386701,
          635,
          1773,
          18329,
          9788,
          62491,
          12589,
          310059,
          1362,
          15979,
          5845,
          1051,
          13372,
          387203,
          635,
          1773,
          20283,
          10357,
          66659,
          13034,
          310066,
          2072,
          32036,
          5845,
          1051,
          13387,
          387203,
          4705,
          1773,
          65348,
          11378,
          71784,
          13832,
          310066,
          3063,
          36834,
          7529,
          1051,
          23392,
          389501,
          4705,
          2325,
          65348,
          11394,
          74114,
          14460,
          344528,
          3563,
          37015,
          7729,
          1051,
          23392,
          416136,
          11126,
          2325,
          66325,
          11429,
          74114,
          14460,
          344569,
          3563,
          44859,
          7729,
          1051,
          23392,
          422267,
          11126,
          2325,
          66460,
          18281,
          74527,
          14460,
          344569,
          3563,
          44921,
          7783,
          1051,
          25533,
          430191,
          11126,
          2325,
          68027,
          19859,
          76218,
          14601,
          344569,
          3563,
          44902,
          8098,
          1051,
          28446,
          433597,
          11126,
          4008,
          71394,
          20571,
          76953,
          15199,
          352402,
          7246,
          44899,
          8253,
          1051,
          29142,
          438557,
          11126,
          4008,
          78533,
          20960,
          84697,
          15269,
          353721,
          7246,
          44899,
          8253,
          1051,
          29142,
          445869,
          11126,
          4008,
          84827,
          21221,
          92826,
          15583,
          355909,
          7246,
          44913,
          8629,
          1051,
          30888,
          462690,
          11126,
          4024,
          89889,
          21609,
          100254,
          16408,
          347159,
          9059,
          44913,
          9875,
          1051,
          31258,
          467738,
          11126,
          4024,
          96223,
          21836,
          102295,
          16570,
          402786,
          9059,
          44942,
          9980,
          1051,
          31741,
          469442,
          11126,
          4024,
          98627,
          22205,
          105536,
          16820,
          428171,
          9751,
          45597,
          10017,
          1051,
          32051,
          476225,
          11126,
          4024,
          103927,
          22542,
          107012,
          16909,
          471688,
          9902,
          46315,
          10017,
          1051,
          32686,
          483546,
          20973,
          4010,
          113867,
          22823,
          113155,
          16632,
          493187,
          9902,
          47523,
          10109,
          1051,
          33221,
          494061,
          20973,
          4010,
          136764,
          23191,
          125985,
          17786,
          498802,
          9902,
          47573,
          15596,
          1051,
          32352,
          466314,
          20960,
          4359,
          143246,
          23216,
          128162,
          18081,
          493708,
          13067,
          47573,
          15626,
          1051,
          33815,
          510110,
          20960,
          4359,
          146960,
          23943,
          142107,
          11851,
          510279,
          13067,
          50042,
          15626,
          1051,
          34766,
          518947,
          20960,
          4359,
          148191,
          24739,
          143544,
          12577,
          510279,
          16694,
          50054,
          17793,
          1051,
          34805,
          566132,
          20960,
          4429,
          147990,
          24825,
          166367,
          12588,
          512916,
          20066,
          57516,
          19133,
          100,
          38999,
          626602,
          20960,
          4429,
          151706,
          32035,
          207096,
          16628,
          546385,
          20066,
          62669,
          19456,
          1051,
          38999,
          652159,
          20960,
          4429,
          156485,
          33062,
          212434,
          16643,
          575870,
          20066,
          77001,
          20291,
          1051,
          43383,
          655891,
          20960,
          4429,
          162699,
          38095,
          218695,
          18139,
          568598,
          20066,
          80938,
          20911,
          6761,
          45156,
          657041,
          30076,
          5088,
          170416,
          39367,
          222169,
          20307,
          574096,
          29824,
          72961,
          13878,
          6761,
          44862,
          456198,
          30076,
          5088,
          162210,
          36835,
          203814,
          20001,
          437504,
          29824,
          83483,
          16562,
          9875,
          53257,
          468343,
          30076,
          5740,
          191623,
          49660,
          249292,
          31654,
          480870,
          48897,
          84948,
          17037,
          9875,
          53833,
          468482,
          39401,
          8528,
          195005,
          51148,
          249564,
          35399,
          496804,
          51891
         ],
         "yaxis": "y"
        }
       ],
       "layout": {
        "font": {
         "color": "black",
         "family": "Times New Roman",
         "size": 14
        },
        "legend": {
         "tracegroupgap": 0
        },
        "margin": {
         "t": 60
        },
        "template": {
         "data": {
          "bar": [
           {
            "error_x": {
             "color": "#2a3f5f"
            },
            "error_y": {
             "color": "#2a3f5f"
            },
            "marker": {
             "line": {
              "color": "#E5ECF6",
              "width": 0.5
             },
             "pattern": {
              "fillmode": "overlay",
              "size": 10,
              "solidity": 0.2
             }
            },
            "type": "bar"
           }
          ],
          "barpolar": [
           {
            "marker": {
             "line": {
              "color": "#E5ECF6",
              "width": 0.5
             },
             "pattern": {
              "fillmode": "overlay",
              "size": 10,
              "solidity": 0.2
             }
            },
            "type": "barpolar"
           }
          ],
          "carpet": [
           {
            "aaxis": {
             "endlinecolor": "#2a3f5f",
             "gridcolor": "white",
             "linecolor": "white",
             "minorgridcolor": "white",
             "startlinecolor": "#2a3f5f"
            },
            "baxis": {
             "endlinecolor": "#2a3f5f",
             "gridcolor": "white",
             "linecolor": "white",
             "minorgridcolor": "white",
             "startlinecolor": "#2a3f5f"
            },
            "type": "carpet"
           }
          ],
          "choropleth": [
           {
            "colorbar": {
             "outlinewidth": 0,
             "ticks": ""
            },
            "type": "choropleth"
           }
          ],
          "contour": [
           {
            "colorbar": {
             "outlinewidth": 0,
             "ticks": ""
            },
            "colorscale": [
             [
              0,
              "#0d0887"
             ],
             [
              0.1111111111111111,
              "#46039f"
             ],
             [
              0.2222222222222222,
              "#7201a8"
             ],
             [
              0.3333333333333333,
              "#9c179e"
             ],
             [
              0.4444444444444444,
              "#bd3786"
             ],
             [
              0.5555555555555556,
              "#d8576b"
             ],
             [
              0.6666666666666666,
              "#ed7953"
             ],
             [
              0.7777777777777778,
              "#fb9f3a"
             ],
             [
              0.8888888888888888,
              "#fdca26"
             ],
             [
              1,
              "#f0f921"
             ]
            ],
            "type": "contour"
           }
          ],
          "contourcarpet": [
           {
            "colorbar": {
             "outlinewidth": 0,
             "ticks": ""
            },
            "type": "contourcarpet"
           }
          ],
          "heatmap": [
           {
            "colorbar": {
             "outlinewidth": 0,
             "ticks": ""
            },
            "colorscale": [
             [
              0,
              "#0d0887"
             ],
             [
              0.1111111111111111,
              "#46039f"
             ],
             [
              0.2222222222222222,
              "#7201a8"
             ],
             [
              0.3333333333333333,
              "#9c179e"
             ],
             [
              0.4444444444444444,
              "#bd3786"
             ],
             [
              0.5555555555555556,
              "#d8576b"
             ],
             [
              0.6666666666666666,
              "#ed7953"
             ],
             [
              0.7777777777777778,
              "#fb9f3a"
             ],
             [
              0.8888888888888888,
              "#fdca26"
             ],
             [
              1,
              "#f0f921"
             ]
            ],
            "type": "heatmap"
           }
          ],
          "heatmapgl": [
           {
            "colorbar": {
             "outlinewidth": 0,
             "ticks": ""
            },
            "colorscale": [
             [
              0,
              "#0d0887"
             ],
             [
              0.1111111111111111,
              "#46039f"
             ],
             [
              0.2222222222222222,
              "#7201a8"
             ],
             [
              0.3333333333333333,
              "#9c179e"
             ],
             [
              0.4444444444444444,
              "#bd3786"
             ],
             [
              0.5555555555555556,
              "#d8576b"
             ],
             [
              0.6666666666666666,
              "#ed7953"
             ],
             [
              0.7777777777777778,
              "#fb9f3a"
             ],
             [
              0.8888888888888888,
              "#fdca26"
             ],
             [
              1,
              "#f0f921"
             ]
            ],
            "type": "heatmapgl"
           }
          ],
          "histogram": [
           {
            "marker": {
             "pattern": {
              "fillmode": "overlay",
              "size": 10,
              "solidity": 0.2
             }
            },
            "type": "histogram"
           }
          ],
          "histogram2d": [
           {
            "colorbar": {
             "outlinewidth": 0,
             "ticks": ""
            },
            "colorscale": [
             [
              0,
              "#0d0887"
             ],
             [
              0.1111111111111111,
              "#46039f"
             ],
             [
              0.2222222222222222,
              "#7201a8"
             ],
             [
              0.3333333333333333,
              "#9c179e"
             ],
             [
              0.4444444444444444,
              "#bd3786"
             ],
             [
              0.5555555555555556,
              "#d8576b"
             ],
             [
              0.6666666666666666,
              "#ed7953"
             ],
             [
              0.7777777777777778,
              "#fb9f3a"
             ],
             [
              0.8888888888888888,
              "#fdca26"
             ],
             [
              1,
              "#f0f921"
             ]
            ],
            "type": "histogram2d"
           }
          ],
          "histogram2dcontour": [
           {
            "colorbar": {
             "outlinewidth": 0,
             "ticks": ""
            },
            "colorscale": [
             [
              0,
              "#0d0887"
             ],
             [
              0.1111111111111111,
              "#46039f"
             ],
             [
              0.2222222222222222,
              "#7201a8"
             ],
             [
              0.3333333333333333,
              "#9c179e"
             ],
             [
              0.4444444444444444,
              "#bd3786"
             ],
             [
              0.5555555555555556,
              "#d8576b"
             ],
             [
              0.6666666666666666,
              "#ed7953"
             ],
             [
              0.7777777777777778,
              "#fb9f3a"
             ],
             [
              0.8888888888888888,
              "#fdca26"
             ],
             [
              1,
              "#f0f921"
             ]
            ],
            "type": "histogram2dcontour"
           }
          ],
          "mesh3d": [
           {
            "colorbar": {
             "outlinewidth": 0,
             "ticks": ""
            },
            "type": "mesh3d"
           }
          ],
          "parcoords": [
           {
            "line": {
             "colorbar": {
              "outlinewidth": 0,
              "ticks": ""
             }
            },
            "type": "parcoords"
           }
          ],
          "pie": [
           {
            "automargin": true,
            "type": "pie"
           }
          ],
          "scatter": [
           {
            "fillpattern": {
             "fillmode": "overlay",
             "size": 10,
             "solidity": 0.2
            },
            "type": "scatter"
           }
          ],
          "scatter3d": [
           {
            "line": {
             "colorbar": {
              "outlinewidth": 0,
              "ticks": ""
             }
            },
            "marker": {
             "colorbar": {
              "outlinewidth": 0,
              "ticks": ""
             }
            },
            "type": "scatter3d"
           }
          ],
          "scattercarpet": [
           {
            "marker": {
             "colorbar": {
              "outlinewidth": 0,
              "ticks": ""
             }
            },
            "type": "scattercarpet"
           }
          ],
          "scattergeo": [
           {
            "marker": {
             "colorbar": {
              "outlinewidth": 0,
              "ticks": ""
             }
            },
            "type": "scattergeo"
           }
          ],
          "scattergl": [
           {
            "marker": {
             "colorbar": {
              "outlinewidth": 0,
              "ticks": ""
             }
            },
            "type": "scattergl"
           }
          ],
          "scattermapbox": [
           {
            "marker": {
             "colorbar": {
              "outlinewidth": 0,
              "ticks": ""
             }
            },
            "type": "scattermapbox"
           }
          ],
          "scatterpolar": [
           {
            "marker": {
             "colorbar": {
              "outlinewidth": 0,
              "ticks": ""
             }
            },
            "type": "scatterpolar"
           }
          ],
          "scatterpolargl": [
           {
            "marker": {
             "colorbar": {
              "outlinewidth": 0,
              "ticks": ""
             }
            },
            "type": "scatterpolargl"
           }
          ],
          "scatterternary": [
           {
            "marker": {
             "colorbar": {
              "outlinewidth": 0,
              "ticks": ""
             }
            },
            "type": "scatterternary"
           }
          ],
          "surface": [
           {
            "colorbar": {
             "outlinewidth": 0,
             "ticks": ""
            },
            "colorscale": [
             [
              0,
              "#0d0887"
             ],
             [
              0.1111111111111111,
              "#46039f"
             ],
             [
              0.2222222222222222,
              "#7201a8"
             ],
             [
              0.3333333333333333,
              "#9c179e"
             ],
             [
              0.4444444444444444,
              "#bd3786"
             ],
             [
              0.5555555555555556,
              "#d8576b"
             ],
             [
              0.6666666666666666,
              "#ed7953"
             ],
             [
              0.7777777777777778,
              "#fb9f3a"
             ],
             [
              0.8888888888888888,
              "#fdca26"
             ],
             [
              1,
              "#f0f921"
             ]
            ],
            "type": "surface"
           }
          ],
          "table": [
           {
            "cells": {
             "fill": {
              "color": "#EBF0F8"
             },
             "line": {
              "color": "white"
             }
            },
            "header": {
             "fill": {
              "color": "#C8D4E3"
             },
             "line": {
              "color": "white"
             }
            },
            "type": "table"
           }
          ]
         },
         "layout": {
          "annotationdefaults": {
           "arrowcolor": "#2a3f5f",
           "arrowhead": 0,
           "arrowwidth": 1
          },
          "autotypenumbers": "strict",
          "coloraxis": {
           "colorbar": {
            "outlinewidth": 0,
            "ticks": ""
           }
          },
          "colorscale": {
           "diverging": [
            [
             0,
             "#8e0152"
            ],
            [
             0.1,
             "#c51b7d"
            ],
            [
             0.2,
             "#de77ae"
            ],
            [
             0.3,
             "#f1b6da"
            ],
            [
             0.4,
             "#fde0ef"
            ],
            [
             0.5,
             "#f7f7f7"
            ],
            [
             0.6,
             "#e6f5d0"
            ],
            [
             0.7,
             "#b8e186"
            ],
            [
             0.8,
             "#7fbc41"
            ],
            [
             0.9,
             "#4d9221"
            ],
            [
             1,
             "#276419"
            ]
           ],
           "sequential": [
            [
             0,
             "#0d0887"
            ],
            [
             0.1111111111111111,
             "#46039f"
            ],
            [
             0.2222222222222222,
             "#7201a8"
            ],
            [
             0.3333333333333333,
             "#9c179e"
            ],
            [
             0.4444444444444444,
             "#bd3786"
            ],
            [
             0.5555555555555556,
             "#d8576b"
            ],
            [
             0.6666666666666666,
             "#ed7953"
            ],
            [
             0.7777777777777778,
             "#fb9f3a"
            ],
            [
             0.8888888888888888,
             "#fdca26"
            ],
            [
             1,
             "#f0f921"
            ]
           ],
           "sequentialminus": [
            [
             0,
             "#0d0887"
            ],
            [
             0.1111111111111111,
             "#46039f"
            ],
            [
             0.2222222222222222,
             "#7201a8"
            ],
            [
             0.3333333333333333,
             "#9c179e"
            ],
            [
             0.4444444444444444,
             "#bd3786"
            ],
            [
             0.5555555555555556,
             "#d8576b"
            ],
            [
             0.6666666666666666,
             "#ed7953"
            ],
            [
             0.7777777777777778,
             "#fb9f3a"
            ],
            [
             0.8888888888888888,
             "#fdca26"
            ],
            [
             1,
             "#f0f921"
            ]
           ]
          },
          "colorway": [
           "#636efa",
           "#EF553B",
           "#00cc96",
           "#ab63fa",
           "#FFA15A",
           "#19d3f3",
           "#FF6692",
           "#B6E880",
           "#FF97FF",
           "#FECB52"
          ],
          "font": {
           "color": "#2a3f5f"
          },
          "geo": {
           "bgcolor": "white",
           "lakecolor": "white",
           "landcolor": "#E5ECF6",
           "showlakes": true,
           "showland": true,
           "subunitcolor": "white"
          },
          "hoverlabel": {
           "align": "left"
          },
          "hovermode": "closest",
          "mapbox": {
           "style": "light"
          },
          "paper_bgcolor": "white",
          "plot_bgcolor": "#E5ECF6",
          "polar": {
           "angularaxis": {
            "gridcolor": "white",
            "linecolor": "white",
            "ticks": ""
           },
           "bgcolor": "#E5ECF6",
           "radialaxis": {
            "gridcolor": "white",
            "linecolor": "white",
            "ticks": ""
           }
          },
          "scene": {
           "xaxis": {
            "backgroundcolor": "#E5ECF6",
            "gridcolor": "white",
            "gridwidth": 2,
            "linecolor": "white",
            "showbackground": true,
            "ticks": "",
            "zerolinecolor": "white"
           },
           "yaxis": {
            "backgroundcolor": "#E5ECF6",
            "gridcolor": "white",
            "gridwidth": 2,
            "linecolor": "white",
            "showbackground": true,
            "ticks": "",
            "zerolinecolor": "white"
           },
           "zaxis": {
            "backgroundcolor": "#E5ECF6",
            "gridcolor": "white",
            "gridwidth": 2,
            "linecolor": "white",
            "showbackground": true,
            "ticks": "",
            "zerolinecolor": "white"
           }
          },
          "shapedefaults": {
           "line": {
            "color": "#2a3f5f"
           }
          },
          "ternary": {
           "aaxis": {
            "gridcolor": "white",
            "linecolor": "white",
            "ticks": ""
           },
           "baxis": {
            "gridcolor": "white",
            "linecolor": "white",
            "ticks": ""
           },
           "bgcolor": "#E5ECF6",
           "caxis": {
            "gridcolor": "white",
            "linecolor": "white",
            "ticks": ""
           }
          },
          "title": {
           "x": 0.05
          },
          "xaxis": {
           "automargin": true,
           "gridcolor": "white",
           "linecolor": "white",
           "ticks": "",
           "title": {
            "standoff": 15
           },
           "zerolinecolor": "white",
           "zerolinewidth": 2
          },
          "yaxis": {
           "automargin": true,
           "gridcolor": "white",
           "linecolor": "white",
           "ticks": "",
           "title": {
            "standoff": 15
           },
           "zerolinecolor": "white",
           "zerolinewidth": 2
          }
         }
        },
        "title": {
         "font": {
          "color": "black",
          "family": "Times New Roman",
          "size": 24
         },
         "text": "Region of origin of the Internal Displaced People",
         "x": 0.5,
         "xanchor": "center"
        },
        "xaxis": {
         "anchor": "y",
         "domain": [
          0,
          1
         ],
         "linecolor": "black",
         "linewidth": 1,
         "showline": true,
         "title": {
          "font": {
           "color": "black",
           "family": "Times New Roman",
           "size": 18
          },
          "text": "Region"
         }
        },
        "yaxis": {
         "anchor": "x",
         "domain": [
          0,
          1
         ],
         "linecolor": "black",
         "linewidth": 1,
         "showline": true,
         "title": {
          "font": {
           "color": "black",
           "family": "Times New Roman",
           "size": 18
          },
          "text": "Internal Displced People"
         }
        }
       }
      },
      "text/html": [
       "<div>                            <div id=\"9a4e1a20-c870-40ef-b38c-1563d8c36319\" class=\"plotly-graph-div\" style=\"height:525px; width:100%;\"></div>            <script type=\"text/javascript\">                require([\"plotly\"], function(Plotly) {                    window.PLOTLYENV=window.PLOTLYENV || {};                                    if (document.getElementById(\"9a4e1a20-c870-40ef-b38c-1563d8c36319\")) {                    Plotly.newPlot(                        \"9a4e1a20-c870-40ef-b38c-1563d8c36319\",                        [{\"hovertemplate\":\"Regions=%{x}<br>Internal Displced People=%{y}<extra></extra>\",\"legendgroup\":\"\",\"marker\":{\"color\":\"#636efa\",\"symbol\":\"circle\"},\"mode\":\"markers\",\"name\":\"\",\"orientation\":\"v\",\"showlegend\":false,\"x\":[\"Nord\",\"Centre-Nord\",\"Centre-Nord\",\"Centre\",\"Centre-Nord\",\"Nord\",\"Sahel\",\"Centre\",\"Centre-Nord\",\"Nord\",\"Sahel\",\"Centre\",\"Centre-Nord\",\"Est\",\"Nord\",\"Sahel\",\"Centre-Nord\",\"Sahel\",\"Boucle du Mouhoun\",\"Centre\",\"Centre-Nord\",\"Est\",\"Nord\",\"Sahel\",\"Boucle du Mouhoun\",\"Cascades\",\"Centre\",\"Centre-Est\",\"Centre-Nord\",\"Centre-Ouest\",\"Centre-Sud\",\"Est\",\"Hauts-Bassins\",\"Nord\",\"Plateau Central\",\"Sahel\",\"Sud-Ouest\",\"Boucle du Mouhoun\",\"Cascades\",\"Centre\",\"Centre-Est\",\"Centre-Nord\",\"Centre-Ouest\",\"Centre-Sud\",\"Est\",\"Hauts-Bassins\",\"Nord\",\"Plateau Central\",\"Sahel\",\"Sud-Ouest\",\"Boucle du Mouhoun\",\"Cascades\",\"Centre\",\"Centre-Est\",\"Centre-Nord\",\"Centre-Ouest\",\"Centre-Sud\",\"Est\",\"Hauts-Bassins\",\"Nord\",\"Plateau Central\",\"Sahel\",\"Sud-Ouest\",\"Boucle du Mouhoun\",\"Cascades\",\"Centre\",\"Centre-Est\",\"Centre-Nord\",\"Centre-Ouest\",\"Centre-Sud\",\"Est\",\"Hauts-Bassins\",\"Nord\",\"Plateau Central\",\"Sahel\",\"Sud-Ouest\",\"Boucle du Mouhoun\",\"Cascades\",\"Centre\",\"Centre-Est\",\"Centre-Nord\",\"Centre-Ouest\",\"Centre-Sud\",\"Est\",\"Hauts-Bassins\",\"Nord\",\"Plateau Central\",\"Sahel\",\"Sud-Ouest\",\"Boucle du Mouhoun\",\"Cascades\",\"Centre\",\"Centre-Est\",\"Centre-Nord\",\"Centre-Ouest\",\"Centre-Sud\",\"Est\",\"Hauts-Bassins\",\"Nord\",\"Plateau Central\",\"Sahel\",\"Sud-Ouest\",\"Boucle du Mouhoun\",\"Cascades\",\"Centre\",\"Centre-Est\",\"Centre-Nord\",\"Centre-Ouest\",\"Centre-Sud\",\"Est\",\"Hauts-Bassins\",\"Nord\",\"Plateau Central\",\"Sahel\",\"Sud-Ouest\",\"Boucle du Mouhoun\",\"Cascades\",\"Centre\",\"Centre-Est\",\"Centre-Nord\",\"Centre-Ouest\",\"Centre-Sud\",\"Est\",\"Hauts-Bassins\",\"Nord\",\"Plateau Central\",\"Sahel\",\"Sud-Ouest\",\"Boucle du Mouhoun\",\"Cascades\",\"Centre\",\"Centre-Est\",\"Centre-Nord\",\"Centre-Ouest\",\"Centre-Sud\",\"Est\",\"Hauts-Bassins\",\"Nord\",\"Plateau Central\",\"Sahel\",\"Sud-Ouest\",\"Boucle du Mouhoun\",\"Cascades\",\"Centre\",\"Centre-Est\",\"Centre-Nord\",\"Centre-Ouest\",\"Centre-Sud\",\"Est\",\"Hauts-Bassins\",\"Nord\",\"Plateau Central\",\"Sahel\",\"Sud-Ouest\",\"Boucle du Mouhoun\",\"Cascades\",\"Centre\",\"Centre-Est\",\"Centre-Nord\",\"Centre-Ouest\",\"Centre-Sud\",\"Est\",\"Hauts-Bassins\",\"Nord\",\"Plateau Central\",\"Sahel\",\"Sud-Ouest\",\"Boucle du Mouhoun\",\"Cascades\",\"Centre\",\"Centre-Est\",\"Centre-Nord\",\"Centre-Ouest\",\"Centre-Sud\",\"Est\",\"Hauts-Bassins\",\"Nord\",\"Plateau Central\",\"Sahel\",\"Sud-Ouest\",\"Boucle du Mouhoun\",\"Cascades\",\"Centre\",\"Centre-Est\",\"Centre-Nord\",\"Centre-Ouest\",\"Centre-Sud\",\"Est\",\"Hauts-Bassins\",\"Nord\",\"Plateau Central\",\"Sahel\",\"Sud-Ouest\",\"Boucle du Mouhoun\",\"Cascades\",\"Centre\",\"Centre-Est\",\"Centre-Nord\",\"Centre-Ouest\",\"Centre-Sud\",\"Est\",\"Hauts-Bassins\",\"Nord\",\"Plateau Central\",\"Sahel\",\"Sud-Ouest\",\"Boucle du Mouhoun\",\"Cascades\",\"Centre\",\"Centre-Est\",\"Centre-Nord\",\"Centre-Ouest\",\"Centre-Sud\",\"Est\",\"Hauts-Bassins\",\"Nord\",\"Plateau Central\",\"Sahel\",\"Sud-Ouest\",\"Boucle du Mouhoun\",\"Cascades\",\"Centre\",\"Centre-Est\",\"Centre-Nord\",\"Centre-Ouest\",\"Centre-Sud\",\"Est\",\"Hauts-Bassins\",\"Nord\",\"Plateau Central\",\"Sahel\",\"Sud-Ouest\",\"Boucle du Mouhoun\",\"Cascades\",\"Centre\",\"Centre-Est\",\"Centre-Nord\",\"Centre-Ouest\",\"Centre-Sud\",\"Est\",\"Hauts-Bassins\",\"Nord\",\"Plateau Central\",\"Sahel\",\"Sud-Ouest\",\"Boucle du Mouhoun\",\"Cascades\",\"Centre\",\"Centre-Est\",\"Centre-Nord\",\"Centre-Ouest\",\"Centre-Sud\",\"Est\",\"Hauts-Bassins\",\"Nord\",\"Plateau Central\",\"Sahel\",\"Sud-Ouest\",\"Boucle du Mouhoun\",\"Cascades\",\"Centre\",\"Centre-Est\",\"Centre-Nord\",\"Centre-Ouest\",\"Centre-Sud\",\"Est\",\"Hauts-Bassins\",\"Nord\",\"Plateau Central\",\"Sahel\",\"Sud-Ouest\",\"Boucle du Mouhoun\",\"Cascades\",\"Centre\",\"Centre-Est\",\"Centre-Nord\",\"Centre-Ouest\",\"Centre-Sud\",\"Est\",\"Hauts-Bassins\",\"Nord\",\"Plateau Central\",\"Sahel\",\"Sud-Ouest\",\"Boucle du Mouhoun\",\"Cascades\",\"Centre\",\"Centre-Est\",\"Centre-Nord\",\"Centre-Ouest\",\"Centre-Sud\",\"Est\",\"Hauts-Bassins\",\"Nord\",\"Plateau Central\",\"Sahel\",\"Sud-Ouest\",\"Boucle du Mouhoun\",\"Cascades\",\"Centre\",\"Centre-Est\",\"Centre-Nord\",\"Centre-Ouest\",\"Centre-Sud\",\"Est\",\"Hauts-Bassins\",\"Nord\",\"Plateau Central\",\"Sahel\",\"Sud-Ouest\",\"Boucle du Mouhoun\",\"Cascades\",\"Centre\",\"Centre-Est\",\"Centre-Nord\",\"Centre-Ouest\",\"Centre-Sud\",\"Est\",\"Hauts-Bassins\",\"Nord\",\"Plateau Central\",\"Sahel\",\"Sud-Ouest\",\"Boucle du Mouhoun\",\"Cascades\",\"Centre\",\"Centre-Est\",\"Centre-Nord\",\"Centre-Ouest\",\"Centre-Sud\",\"Est\",\"Hauts-Bassins\",\"Nord\",\"Plateau Central\",\"Sahel\",\"Sud-Ouest\",\"Boucle du Mouhoun\",\"Cascades\",\"Centre\",\"Centre-Est\",\"Centre-Nord\",\"Centre-Ouest\",\"Centre-Sud\",\"Est\",\"Hauts-Bassins\",\"Nord\",\"Plateau Central\",\"Sahel\",\"Sud-Ouest\",\"Boucle du Mouhoun\",\"Cascades\",\"Centre\",\"Centre-Est\",\"Centre-Nord\",\"Centre-Ouest\",\"Centre-Sud\",\"Est\",\"Hauts-Bassins\",\"Nord\",\"Plateau Central\",\"Sahel\",\"Sud-Ouest\",\"Boucle du Mouhoun\",\"Cascades\",\"Centre\",\"Centre-Est\",\"Centre-Nord\",\"Centre-Ouest\",\"Centre-Sud\",\"Est\",\"Hauts-Bassins\",\"Nord\",\"Plateau Central\",\"Sahel\",\"Sud-Ouest\",\"Boucle du Mouhoun\",\"Cascades\",\"Centre\",\"Centre-Est\",\"Centre-Nord\",\"Centre-Ouest\",\"Centre-Sud\",\"Est\",\"Hauts-Bassins\",\"Nord\",\"Plateau Central\",\"Sahel\",\"Sud-Ouest\",\"Boucle du Mouhoun\",\"Cascades\",\"Centre\",\"Centre-Est\",\"Centre-Nord\",\"Centre-Ouest\",\"Centre-Sud\",\"Est\",\"Hauts-Bassins\",\"Nord\",\"Plateau Central\",\"Sahel\",\"Sud-Ouest\",\"Boucle du Mouhoun\",\"Cascades\",\"Centre\",\"Centre-Est\",\"Centre-Nord\",\"Centre-Ouest\",\"Centre-Sud\",\"Est\",\"Hauts-Bassins\",\"Nord\",\"Plateau Central\",\"Sahel\",\"Sud-Ouest\",\"Boucle du Mouhoun\",\"Cascades\",\"Centre\",\"Centre-Est\",\"Centre-Nord\",\"Centre-Ouest\",\"Centre-Sud\",\"Est\",\"Hauts-Bassins\",\"Nord\",\"Plateau Central\",\"Sahel\",\"Sud-Ouest\",\"Boucle du Mouhoun\",\"Cascades\",\"Centre\",\"Centre-Est\",\"Centre-Nord\",\"Centre-Ouest\",\"Centre-Sud\",\"Est\",\"Hauts-Bassins\",\"Nord\",\"Plateau Central\",\"Sahel\",\"Sud-Ouest\",\"Boucle du Mouhoun\",\"Cascades\",\"Centre\",\"Centre-Est\",\"Centre-Nord\",\"Centre-Ouest\",\"Centre-Sud\",\"Est\",\"Hauts-Bassins\",\"Nord\",\"Plateau Central\",\"Sahel\",\"Sud-Ouest\",\"Boucle du Mouhoun\",\"Cascades\",\"Centre\",\"Centre-Est\",\"Centre-Nord\",\"Centre-Ouest\",\"Centre-Sud\",\"Est\",\"Hauts-Bassins\",\"Nord\",\"Plateau Central\",\"Sahel\",\"Sud-Ouest\",\"Boucle du Mouhoun\",\"Cascades\",\"Centre\",\"Centre-Est\",\"Centre-Nord\",\"Centre-Ouest\",\"Centre-Sud\",\"Est\",\"Hauts-Bassins\",\"Nord\",\"Plateau Central\",\"Sahel\",\"Sud-Ouest\",\"Boucle du Mouhoun\",\"Cascades\",\"Centre\",\"Centre-Est\",\"Centre-Nord\",\"Centre-Ouest\",\"Centre-Sud\",\"Est\",\"Hauts-Bassins\",\"Nord\",\"Plateau Central\",\"Sahel\",\"Sud-Ouest\"],\"xaxis\":\"x\",\"y\":[558,3335,669,0,14964,2462,64538,431,27547,4072,80007,431,32542,2529,5078,95009,200,161017,100,431,53973,3158,5578,108754,120,268,1051,466,80103,636,113,3584,468,9978,272,122473,224,8577,268,1051,129,82660,636,101,3584,558,10058,2429,127477,241,8577,268,1051,145,119798,636,101,10293,558,14356,2573,130353,285,8577,268,1051,145,119798,636,101,10293,558,14356,2598,130925,285,8588,268,1051,145,270476,635,101,10293,558,31998,1222,160741,284,8737,268,1051,555,270476,635,1773,17484,3510,38244,4718,212298,284,10662,268,1051,555,316812,635,1773,18329,4011,42396,4718,212298,284,10662,268,1051,13372,383925,635,1773,18329,4011,42396,5765,283046,284,11350,268,1051,13372,385107,635,1773,18329,6365,52396,5765,283046,284,14548,5845,1051,13372,386701,635,1773,18329,9788,62491,12589,310059,1362,15979,5845,1051,13372,387203,635,1773,20283,10357,66659,13034,310066,2072,32036,5845,1051,13387,387203,4705,1773,65348,11378,71784,13832,310066,3063,36834,7529,1051,23392,389501,4705,2325,65348,11394,74114,14460,344528,3563,37015,7729,1051,23392,416136,11126,2325,66325,11429,74114,14460,344569,3563,44859,7729,1051,23392,422267,11126,2325,66460,18281,74527,14460,344569,3563,44921,7783,1051,25533,430191,11126,2325,68027,19859,76218,14601,344569,3563,44902,8098,1051,28446,433597,11126,4008,71394,20571,76953,15199,352402,7246,44899,8253,1051,29142,438557,11126,4008,78533,20960,84697,15269,353721,7246,44899,8253,1051,29142,445869,11126,4008,84827,21221,92826,15583,355909,7246,44913,8629,1051,30888,462690,11126,4024,89889,21609,100254,16408,347159,9059,44913,9875,1051,31258,467738,11126,4024,96223,21836,102295,16570,402786,9059,44942,9980,1051,31741,469442,11126,4024,98627,22205,105536,16820,428171,9751,45597,10017,1051,32051,476225,11126,4024,103927,22542,107012,16909,471688,9902,46315,10017,1051,32686,483546,20973,4010,113867,22823,113155,16632,493187,9902,47523,10109,1051,33221,494061,20973,4010,136764,23191,125985,17786,498802,9902,47573,15596,1051,32352,466314,20960,4359,143246,23216,128162,18081,493708,13067,47573,15626,1051,33815,510110,20960,4359,146960,23943,142107,11851,510279,13067,50042,15626,1051,34766,518947,20960,4359,148191,24739,143544,12577,510279,16694,50054,17793,1051,34805,566132,20960,4429,147990,24825,166367,12588,512916,20066,57516,19133,100,38999,626602,20960,4429,151706,32035,207096,16628,546385,20066,62669,19456,1051,38999,652159,20960,4429,156485,33062,212434,16643,575870,20066,77001,20291,1051,43383,655891,20960,4429,162699,38095,218695,18139,568598,20066,80938,20911,6761,45156,657041,30076,5088,170416,39367,222169,20307,574096,29824,72961,13878,6761,44862,456198,30076,5088,162210,36835,203814,20001,437504,29824,83483,16562,9875,53257,468343,30076,5740,191623,49660,249292,31654,480870,48897,84948,17037,9875,53833,468482,39401,8528,195005,51148,249564,35399,496804,51891],\"yaxis\":\"y\",\"type\":\"scatter\"}],                        {\"template\":{\"data\":{\"histogram2dcontour\":[{\"type\":\"histogram2dcontour\",\"colorbar\":{\"outlinewidth\":0,\"ticks\":\"\"},\"colorscale\":[[0.0,\"#0d0887\"],[0.1111111111111111,\"#46039f\"],[0.2222222222222222,\"#7201a8\"],[0.3333333333333333,\"#9c179e\"],[0.4444444444444444,\"#bd3786\"],[0.5555555555555556,\"#d8576b\"],[0.6666666666666666,\"#ed7953\"],[0.7777777777777778,\"#fb9f3a\"],[0.8888888888888888,\"#fdca26\"],[1.0,\"#f0f921\"]]}],\"choropleth\":[{\"type\":\"choropleth\",\"colorbar\":{\"outlinewidth\":0,\"ticks\":\"\"}}],\"histogram2d\":[{\"type\":\"histogram2d\",\"colorbar\":{\"outlinewidth\":0,\"ticks\":\"\"},\"colorscale\":[[0.0,\"#0d0887\"],[0.1111111111111111,\"#46039f\"],[0.2222222222222222,\"#7201a8\"],[0.3333333333333333,\"#9c179e\"],[0.4444444444444444,\"#bd3786\"],[0.5555555555555556,\"#d8576b\"],[0.6666666666666666,\"#ed7953\"],[0.7777777777777778,\"#fb9f3a\"],[0.8888888888888888,\"#fdca26\"],[1.0,\"#f0f921\"]]}],\"heatmap\":[{\"type\":\"heatmap\",\"colorbar\":{\"outlinewidth\":0,\"ticks\":\"\"},\"colorscale\":[[0.0,\"#0d0887\"],[0.1111111111111111,\"#46039f\"],[0.2222222222222222,\"#7201a8\"],[0.3333333333333333,\"#9c179e\"],[0.4444444444444444,\"#bd3786\"],[0.5555555555555556,\"#d8576b\"],[0.6666666666666666,\"#ed7953\"],[0.7777777777777778,\"#fb9f3a\"],[0.8888888888888888,\"#fdca26\"],[1.0,\"#f0f921\"]]}],\"heatmapgl\":[{\"type\":\"heatmapgl\",\"colorbar\":{\"outlinewidth\":0,\"ticks\":\"\"},\"colorscale\":[[0.0,\"#0d0887\"],[0.1111111111111111,\"#46039f\"],[0.2222222222222222,\"#7201a8\"],[0.3333333333333333,\"#9c179e\"],[0.4444444444444444,\"#bd3786\"],[0.5555555555555556,\"#d8576b\"],[0.6666666666666666,\"#ed7953\"],[0.7777777777777778,\"#fb9f3a\"],[0.8888888888888888,\"#fdca26\"],[1.0,\"#f0f921\"]]}],\"contourcarpet\":[{\"type\":\"contourcarpet\",\"colorbar\":{\"outlinewidth\":0,\"ticks\":\"\"}}],\"contour\":[{\"type\":\"contour\",\"colorbar\":{\"outlinewidth\":0,\"ticks\":\"\"},\"colorscale\":[[0.0,\"#0d0887\"],[0.1111111111111111,\"#46039f\"],[0.2222222222222222,\"#7201a8\"],[0.3333333333333333,\"#9c179e\"],[0.4444444444444444,\"#bd3786\"],[0.5555555555555556,\"#d8576b\"],[0.6666666666666666,\"#ed7953\"],[0.7777777777777778,\"#fb9f3a\"],[0.8888888888888888,\"#fdca26\"],[1.0,\"#f0f921\"]]}],\"surface\":[{\"type\":\"surface\",\"colorbar\":{\"outlinewidth\":0,\"ticks\":\"\"},\"colorscale\":[[0.0,\"#0d0887\"],[0.1111111111111111,\"#46039f\"],[0.2222222222222222,\"#7201a8\"],[0.3333333333333333,\"#9c179e\"],[0.4444444444444444,\"#bd3786\"],[0.5555555555555556,\"#d8576b\"],[0.6666666666666666,\"#ed7953\"],[0.7777777777777778,\"#fb9f3a\"],[0.8888888888888888,\"#fdca26\"],[1.0,\"#f0f921\"]]}],\"mesh3d\":[{\"type\":\"mesh3d\",\"colorbar\":{\"outlinewidth\":0,\"ticks\":\"\"}}],\"scatter\":[{\"fillpattern\":{\"fillmode\":\"overlay\",\"size\":10,\"solidity\":0.2},\"type\":\"scatter\"}],\"parcoords\":[{\"type\":\"parcoords\",\"line\":{\"colorbar\":{\"outlinewidth\":0,\"ticks\":\"\"}}}],\"scatterpolargl\":[{\"type\":\"scatterpolargl\",\"marker\":{\"colorbar\":{\"outlinewidth\":0,\"ticks\":\"\"}}}],\"bar\":[{\"error_x\":{\"color\":\"#2a3f5f\"},\"error_y\":{\"color\":\"#2a3f5f\"},\"marker\":{\"line\":{\"color\":\"#E5ECF6\",\"width\":0.5},\"pattern\":{\"fillmode\":\"overlay\",\"size\":10,\"solidity\":0.2}},\"type\":\"bar\"}],\"scattergeo\":[{\"type\":\"scattergeo\",\"marker\":{\"colorbar\":{\"outlinewidth\":0,\"ticks\":\"\"}}}],\"scatterpolar\":[{\"type\":\"scatterpolar\",\"marker\":{\"colorbar\":{\"outlinewidth\":0,\"ticks\":\"\"}}}],\"histogram\":[{\"marker\":{\"pattern\":{\"fillmode\":\"overlay\",\"size\":10,\"solidity\":0.2}},\"type\":\"histogram\"}],\"scattergl\":[{\"type\":\"scattergl\",\"marker\":{\"colorbar\":{\"outlinewidth\":0,\"ticks\":\"\"}}}],\"scatter3d\":[{\"type\":\"scatter3d\",\"line\":{\"colorbar\":{\"outlinewidth\":0,\"ticks\":\"\"}},\"marker\":{\"colorbar\":{\"outlinewidth\":0,\"ticks\":\"\"}}}],\"scattermapbox\":[{\"type\":\"scattermapbox\",\"marker\":{\"colorbar\":{\"outlinewidth\":0,\"ticks\":\"\"}}}],\"scatterternary\":[{\"type\":\"scatterternary\",\"marker\":{\"colorbar\":{\"outlinewidth\":0,\"ticks\":\"\"}}}],\"scattercarpet\":[{\"type\":\"scattercarpet\",\"marker\":{\"colorbar\":{\"outlinewidth\":0,\"ticks\":\"\"}}}],\"carpet\":[{\"aaxis\":{\"endlinecolor\":\"#2a3f5f\",\"gridcolor\":\"white\",\"linecolor\":\"white\",\"minorgridcolor\":\"white\",\"startlinecolor\":\"#2a3f5f\"},\"baxis\":{\"endlinecolor\":\"#2a3f5f\",\"gridcolor\":\"white\",\"linecolor\":\"white\",\"minorgridcolor\":\"white\",\"startlinecolor\":\"#2a3f5f\"},\"type\":\"carpet\"}],\"table\":[{\"cells\":{\"fill\":{\"color\":\"#EBF0F8\"},\"line\":{\"color\":\"white\"}},\"header\":{\"fill\":{\"color\":\"#C8D4E3\"},\"line\":{\"color\":\"white\"}},\"type\":\"table\"}],\"barpolar\":[{\"marker\":{\"line\":{\"color\":\"#E5ECF6\",\"width\":0.5},\"pattern\":{\"fillmode\":\"overlay\",\"size\":10,\"solidity\":0.2}},\"type\":\"barpolar\"}],\"pie\":[{\"automargin\":true,\"type\":\"pie\"}]},\"layout\":{\"autotypenumbers\":\"strict\",\"colorway\":[\"#636efa\",\"#EF553B\",\"#00cc96\",\"#ab63fa\",\"#FFA15A\",\"#19d3f3\",\"#FF6692\",\"#B6E880\",\"#FF97FF\",\"#FECB52\"],\"font\":{\"color\":\"#2a3f5f\"},\"hovermode\":\"closest\",\"hoverlabel\":{\"align\":\"left\"},\"paper_bgcolor\":\"white\",\"plot_bgcolor\":\"#E5ECF6\",\"polar\":{\"bgcolor\":\"#E5ECF6\",\"angularaxis\":{\"gridcolor\":\"white\",\"linecolor\":\"white\",\"ticks\":\"\"},\"radialaxis\":{\"gridcolor\":\"white\",\"linecolor\":\"white\",\"ticks\":\"\"}},\"ternary\":{\"bgcolor\":\"#E5ECF6\",\"aaxis\":{\"gridcolor\":\"white\",\"linecolor\":\"white\",\"ticks\":\"\"},\"baxis\":{\"gridcolor\":\"white\",\"linecolor\":\"white\",\"ticks\":\"\"},\"caxis\":{\"gridcolor\":\"white\",\"linecolor\":\"white\",\"ticks\":\"\"}},\"coloraxis\":{\"colorbar\":{\"outlinewidth\":0,\"ticks\":\"\"}},\"colorscale\":{\"sequential\":[[0.0,\"#0d0887\"],[0.1111111111111111,\"#46039f\"],[0.2222222222222222,\"#7201a8\"],[0.3333333333333333,\"#9c179e\"],[0.4444444444444444,\"#bd3786\"],[0.5555555555555556,\"#d8576b\"],[0.6666666666666666,\"#ed7953\"],[0.7777777777777778,\"#fb9f3a\"],[0.8888888888888888,\"#fdca26\"],[1.0,\"#f0f921\"]],\"sequentialminus\":[[0.0,\"#0d0887\"],[0.1111111111111111,\"#46039f\"],[0.2222222222222222,\"#7201a8\"],[0.3333333333333333,\"#9c179e\"],[0.4444444444444444,\"#bd3786\"],[0.5555555555555556,\"#d8576b\"],[0.6666666666666666,\"#ed7953\"],[0.7777777777777778,\"#fb9f3a\"],[0.8888888888888888,\"#fdca26\"],[1.0,\"#f0f921\"]],\"diverging\":[[0,\"#8e0152\"],[0.1,\"#c51b7d\"],[0.2,\"#de77ae\"],[0.3,\"#f1b6da\"],[0.4,\"#fde0ef\"],[0.5,\"#f7f7f7\"],[0.6,\"#e6f5d0\"],[0.7,\"#b8e186\"],[0.8,\"#7fbc41\"],[0.9,\"#4d9221\"],[1,\"#276419\"]]},\"xaxis\":{\"gridcolor\":\"white\",\"linecolor\":\"white\",\"ticks\":\"\",\"title\":{\"standoff\":15},\"zerolinecolor\":\"white\",\"automargin\":true,\"zerolinewidth\":2},\"yaxis\":{\"gridcolor\":\"white\",\"linecolor\":\"white\",\"ticks\":\"\",\"title\":{\"standoff\":15},\"zerolinecolor\":\"white\",\"automargin\":true,\"zerolinewidth\":2},\"scene\":{\"xaxis\":{\"backgroundcolor\":\"#E5ECF6\",\"gridcolor\":\"white\",\"linecolor\":\"white\",\"showbackground\":true,\"ticks\":\"\",\"zerolinecolor\":\"white\",\"gridwidth\":2},\"yaxis\":{\"backgroundcolor\":\"#E5ECF6\",\"gridcolor\":\"white\",\"linecolor\":\"white\",\"showbackground\":true,\"ticks\":\"\",\"zerolinecolor\":\"white\",\"gridwidth\":2},\"zaxis\":{\"backgroundcolor\":\"#E5ECF6\",\"gridcolor\":\"white\",\"linecolor\":\"white\",\"showbackground\":true,\"ticks\":\"\",\"zerolinecolor\":\"white\",\"gridwidth\":2}},\"shapedefaults\":{\"line\":{\"color\":\"#2a3f5f\"}},\"annotationdefaults\":{\"arrowcolor\":\"#2a3f5f\",\"arrowhead\":0,\"arrowwidth\":1},\"geo\":{\"bgcolor\":\"white\",\"landcolor\":\"#E5ECF6\",\"subunitcolor\":\"white\",\"showland\":true,\"showlakes\":true,\"lakecolor\":\"white\"},\"title\":{\"x\":0.05},\"mapbox\":{\"style\":\"light\"}}},\"xaxis\":{\"anchor\":\"y\",\"domain\":[0.0,1.0],\"title\":{\"text\":\"Region\",\"font\":{\"family\":\"Times New Roman\",\"size\":18,\"color\":\"black\"}},\"showline\":true,\"linecolor\":\"black\",\"linewidth\":1},\"yaxis\":{\"anchor\":\"x\",\"domain\":[0.0,1.0],\"title\":{\"text\":\"Internal Displced People\",\"font\":{\"family\":\"Times New Roman\",\"size\":18,\"color\":\"black\"}},\"showline\":true,\"linecolor\":\"black\",\"linewidth\":1},\"legend\":{\"tracegroupgap\":0},\"margin\":{\"t\":60},\"title\":{\"font\":{\"family\":\"Times New Roman\",\"size\":24,\"color\":\"black\"},\"text\":\"Region of origin of the Internal Displaced People\",\"x\":0.5,\"xanchor\":\"center\"},\"font\":{\"family\":\"Times New Roman\",\"size\":14,\"color\":\"black\"}},                        {\"responsive\": true}                    ).then(function(){\n",
       "                            \n",
       "var gd = document.getElementById('9a4e1a20-c870-40ef-b38c-1563d8c36319');\n",
       "var x = new MutationObserver(function (mutations, observer) {{\n",
       "        var display = window.getComputedStyle(gd).display;\n",
       "        if (!display || display === 'none') {{\n",
       "            console.log([gd, 'removed!']);\n",
       "            Plotly.purge(gd);\n",
       "            observer.disconnect();\n",
       "        }}\n",
       "}});\n",
       "\n",
       "// Listen for the removal of the full notebook cells\n",
       "var notebookContainer = gd.closest('#notebook-container');\n",
       "if (notebookContainer) {{\n",
       "    x.observe(notebookContainer, {childList: true});\n",
       "}}\n",
       "\n",
       "// Listen for the clearing of the current output cell\n",
       "var outputEl = gd.closest('.output');\n",
       "if (outputEl) {{\n",
       "    x.observe(outputEl, {childList: true});\n",
       "}}\n",
       "\n",
       "                        })                };                });            </script>        </div>"
      ]
     },
     "metadata": {},
     "output_type": "display_data"
    }
   ],
   "source": [
    "\n",
    "fig = px.scatter(Region_IDP,\n",
    "                    x=\"Regions\", \n",
    "                    y=\"Internal Displced People\")\n",
    "                   \n",
    "fig.update_xaxes(showline = True, linecolor = 'black', linewidth = 1, row = 1, col = 1,)\n",
    "fig.update_yaxes(showline = True, linecolor = 'black', linewidth = 1, row = 1, col = 1,)\n",
    "\n",
    "fig.update_layout(\n",
    "    title={\n",
    "        'text': \"Region of origin of the Internal Displaced People\",\n",
    "        'font': {'family': 'Times New Roman', 'size': 24, 'color': 'black'},\n",
    "        'x': 0.5,\n",
    "        'xanchor': 'center'},\n",
    "    xaxis_title={\n",
    "        'text': \"Region\",\n",
    "        'font': {'family': 'Times New Roman', 'size': 18, 'color': 'black'}},\n",
    "    yaxis_title={\n",
    "        'text': \"Internal Displced People\",\n",
    "        \n",
    "        'font': {'family': 'Times New Roman', 'size': 18, 'color': 'black'}},\n",
    "    font=dict(family=\"Times New Roman\", size=14, color='black')\n",
    ")\n",
    "\n",
    "fig.show()"
   ]
  },
  {
   "cell_type": "code",
   "execution_count": 6,
   "metadata": {},
   "outputs": [],
   "source": [
    "import plotly.express as px\n",
    "\n",
    "Region_IDP = pd.read_excel(\"/home/adzavon/Documents/MSC_Data_Analysis/Migration_IDP/Regions_months_IDP.xlsx\")\n",
    "Region_IDP[\"Regions\"] = Region_IDP[\"Regions\"].replace([\"centre-nord\"],\"Centre-Nord\")\n",
    "Region_IDP[\"Regions\"] = Region_IDP[\"Regions\"].replace([\"nord\"],\"Nord\")\n",
    "Region_IDP[\"Regions\"] = Region_IDP[\"Regions\"].replace([\"centre\"],\"Centre\")\n",
    "Region_IDP[\"Regions\"] = Region_IDP[\"Regions\"].replace([\"sahel\"],\"Sahel\")\n",
    "Region_IDP[\"Regions\"] = Region_IDP[\"Regions\"].replace([\"est\"],\"Est\")\n",
    "Region_IDP[\"Regions\"] = Region_IDP[\"Regions\"].replace([\"boucle du mouhoun\"],\"Boucle du Mouhoun\")\n",
    "Region_IDP[\"Regions\"] = Region_IDP[\"Regions\"].replace([\"cascades\"],\"Cascades\")\n",
    "Region_IDP[\"Regions\"] = Region_IDP[\"Regions\"].replace([\"centre-est\"],\"Centre-Est\")\n",
    "Region_IDP[\"Regions\"] = Region_IDP[\"Regions\"].replace([\"centre-ouest\"],\"Centre-Ouest\")\n",
    "Region_IDP[\"Regions\"] = Region_IDP[\"Regions\"].replace([\"centre-sud\"],\"Centre-Sud\")\n",
    "Region_IDP[\"Regions\"] = Region_IDP[\"Regions\"].replace([\"hauts-bassins\"],\"Hauts-Bassins\")\n",
    "Region_IDP[\"Regions\"] = Region_IDP[\"Regions\"].replace([\"plateau central\"],\"Plateau Central\")\n",
    "Region_IDP[\"Regions\"] = Region_IDP[\"Regions\"].replace([\"sud-ouest\"],\"Sud-Ouest\")\n",
    "Region_IDP[\"Date\"] = pd.to_datetime(Region_IDP['Date'])\n",
    "new_Region_IDP = Region_IDP.fillna(method='ffill')\n",
    "# new_Region_IDP_01 = new_Region_IDP.loc[new_Region_IDP['Date'].dt.month ==3]\n",
    "# new_Region_IDP_04 = new_Region_IDP.loc[new_Region_IDP['Date'].dt.month ==9]\n",
    "#new_Region_IDP_07 = new_Region_IDP.loc[new_Region_IDP['Date'].dt.month ==10]\n",
    "#new_Region_IDP_10 = new_Region_IDP.loc[new_Region_IDP['Date'].dt.month ==11]\n",
    "\n",
    "# Flux_IDP_01 = pd.merge(new_Region_IDP_01,new_Region_IDP_04, how=\"outer\")\n",
    "#Flux_IDP_02 = pd.merge(new_Region_IDP_07,Flux_IDP_01, how=\"outer\")\n",
    "#Flux_IDP = pd.merge(Flux_IDP_01,Flux_IDP_02, how=\"outer\")\n",
    "# Flux_max = Flux_IDP.groupby([\"Date\",\"Regions\"]).max()\n",
    "# Flux_max_fil = Flux_max.fillna(method='ffill')\n",
    "# Flux_max_fil.to_csv(\"Max.csv\")\n",
    "# Flux_IDP_01.to_csv(\"group_by_year0.csv\")\n",
    "# # Region_IDP[\"Date\"] = pd.to_datetime(Region_IDP['Date'])\n",
    "# # Region_IDP\n",
    "# new_Region_IDP\n",
    "# # data_to_plot\n",
    "# new_Region_IDP[\"Year\"]=new_Region_IDP[\"Date\"].dt.year\n",
    "# simplify = new_Region_IDP[[\"Year\",\"Regions\",\"Internal Displced People\"]]\n",
    "# simplify.to_csv(\"group_by_year0.csv\")\n",
    "\n",
    "new_Region_IDP.to_csv(\"group_by_year0.csv\")"
   ]
  },
  {
   "cell_type": "code",
   "execution_count": 7,
   "metadata": {},
   "outputs": [],
   "source": [
    "# max_by_month = pd.read_csv(\"/home/adzavon/Documents/MSC_Data_Analysis/Migration_IDP/group_by_year0.csv\")\n",
    "# max_by_month.groupby([\"Date\",\"Regions\"]).max()"
   ]
  },
  {
   "cell_type": "code",
   "execution_count": 8,
   "metadata": {},
   "outputs": [],
   "source": [
    "path = \"/home/adzavon/Documents/MSC_Data_Analysis/Migration_IDP/situation-des-pdi-par-communes-31-octobre-2022pcodes - Copy.xlsx\"\n",
    "data = pd.read_excel(path)\n",
    "data = data[[\"Date\",\"Region\",\"PDI\"]]\n",
    "data.Region.unique()\n",
    "data[\"Region\"] = data[\"Region\"].replace([\"CASCADES\"],\"Cascades\")\n",
    "data[\"Region\"] = data[\"Region\"].replace([\"nord\"],\"Nord\")\n",
    "data[\"Region\"] = data[\"Region\"].replace([\"BOUCLE DU MOUHOUN\"],\"Boucle du Mouhoun\")\n",
    "data[\"Region\"] = data[\"Region\"].replace([\"SAHEL\"],\"Sahel\")\n",
    "data[\"Region\"] = data[\"Region\"].replace([\"CENTRE\"],\"Centre\")\n",
    "data[\"Region\"] = data[\"Region\"].replace([\"CENTRE-EST\"],\"Centre-Est\")\n",
    "data[\"Region\"] = data[\"Region\"].replace([\"CENTRE-NORD\"],\"Centre-Nord\")\n",
    "data[\"Region\"] = data[\"Region\"].replace([\"CENTRE-OUEST\"],\"Centre-Ouest\")\n",
    "data[\"Region\"] = data[\"Region\"].replace([\"CENTRE-SUD\"],\"Centre-Sud\")\n",
    "data[\"Region\"] = data[\"Region\"].replace([\"EST\"],\"Est\")\n",
    "data[\"Region\"] = data[\"Region\"].replace([\"HAUTS-BASSINS\"],\"Hauts-Bassins\")\n",
    "data[\"Region\"] = data[\"Region\"].replace([\"NORD\"],\"Nord\")\n",
    "data[\"Region\"] = data[\"Region\"].replace([\"Sud-ouest\"],\"Sud-Ouest\")\n",
    "data[\"Region\"] = data[\"Region\"].replace([\"SUD-OUEST\"],\"Sud-Ouest\")\n",
    "data[\"Region\"] = data[\"Region\"].replace([\"Boucle du Mouhoun\"],\"Boucle du Mouhoun\")\n",
    "data[\"Region\"] = data[\"Region\"].replace([\"cascades\"],\"Cascades\")\n",
    "data[\"Region\"] = data[\"Region\"].replace([\"centre-est\"],\"Centre-Est\")\n",
    "data[\"Region\"] = data[\"Region\"].replace([\"centre-ouest\"],\"Centre-Ouest\")\n",
    "data[\"Region\"] = data[\"Region\"].replace([\"centre-sud\"],\"Centre-Sud\")\n",
    "data[\"Region\"] = data[\"Region\"].replace([\"hauts-bassins\"],\"Hauts-Bassins\")\n",
    "data[\"Region\"] = data[\"Region\"].replace([\"plateau central\"],\"Plateau Central\")\n",
    "data[\"Region\"] = data[\"Region\"].replace([\"sud-ouest\"],\"Sud-Ouest\")\n",
    "data[\"Region\"] = data[\"Region\"].replace([\"PLATEAU CENTRAL\"],\"Plateau Central\")\n",
    "data[\"Region\"] = data[\"Region\"].replace([\"Centre-ouest\"],\"Centre-Ouest\")\n",
    "\n",
    "new_data = data.groupby([\"Date\",\"Region\"]).sum().to_csv(\"new.csv\")\n",
    "#new_data[\"Date\"] = pd.to_datetime(new_data[\"Date\"]).dt.to_period('m')\n",
    "# Flux_IDP_01 = pd.merge(new_Region_IDP_01,new_Region_IDP_04, how=\"outer\")\n"
   ]
  },
  {
   "cell_type": "code",
   "execution_count": 9,
   "metadata": {},
   "outputs": [],
   "source": [
    "#to select just the year and month\n",
    "\n",
    "IDP_data = pd.read_csv(\"/home/adzavon/Documents/MSC_Data_Analysis/Migration_IDP/new.csv\")\n",
    "IDP_data[\"Date\"] = pd.to_datetime(IDP_data[\"Date\"]).dt.to_period('m')\n",
    "IDP_data.to_csv(\"new_period.csv\")"
   ]
  },
  {
   "cell_type": "code",
   "execution_count": 10,
   "metadata": {},
   "outputs": [
    {
     "data": {
      "text/html": [
       "<div>\n",
       "<style scoped>\n",
       "    .dataframe tbody tr th:only-of-type {\n",
       "        vertical-align: middle;\n",
       "    }\n",
       "\n",
       "    .dataframe tbody tr th {\n",
       "        vertical-align: top;\n",
       "    }\n",
       "\n",
       "    .dataframe thead th {\n",
       "        text-align: right;\n",
       "    }\n",
       "</style>\n",
       "<table border=\"1\" class=\"dataframe\">\n",
       "  <thead>\n",
       "    <tr style=\"text-align: right;\">\n",
       "      <th></th>\n",
       "      <th>Date</th>\n",
       "      <th>Region</th>\n",
       "      <th>PDI</th>\n",
       "      <th>Year</th>\n",
       "      <th>Month</th>\n",
       "    </tr>\n",
       "  </thead>\n",
       "  <tbody>\n",
       "    <tr>\n",
       "      <th>0</th>\n",
       "      <td>2018-07-01</td>\n",
       "      <td>Nord</td>\n",
       "      <td>558</td>\n",
       "      <td>2018</td>\n",
       "      <td>7</td>\n",
       "    </tr>\n",
       "    <tr>\n",
       "      <th>1</th>\n",
       "      <td>2018-08-01</td>\n",
       "      <td>Centre-Nord</td>\n",
       "      <td>2950</td>\n",
       "      <td>2018</td>\n",
       "      <td>8</td>\n",
       "    </tr>\n",
       "    <tr>\n",
       "      <th>2</th>\n",
       "      <td>2018-09-01</td>\n",
       "      <td>Centre-Nord</td>\n",
       "      <td>669</td>\n",
       "      <td>2018</td>\n",
       "      <td>9</td>\n",
       "    </tr>\n",
       "    <tr>\n",
       "      <th>3</th>\n",
       "      <td>2019-01-01</td>\n",
       "      <td>Centre</td>\n",
       "      <td>0</td>\n",
       "      <td>2019</td>\n",
       "      <td>1</td>\n",
       "    </tr>\n",
       "    <tr>\n",
       "      <th>4</th>\n",
       "      <td>2019-01-01</td>\n",
       "      <td>Centre-Nord</td>\n",
       "      <td>14964</td>\n",
       "      <td>2019</td>\n",
       "      <td>1</td>\n",
       "    </tr>\n",
       "    <tr>\n",
       "      <th>...</th>\n",
       "      <td>...</td>\n",
       "      <td>...</td>\n",
       "      <td>...</td>\n",
       "      <td>...</td>\n",
       "      <td>...</td>\n",
       "    </tr>\n",
       "    <tr>\n",
       "      <th>461</th>\n",
       "      <td>2022-10-01</td>\n",
       "      <td>Hauts-Bassins</td>\n",
       "      <td>51148</td>\n",
       "      <td>2022</td>\n",
       "      <td>10</td>\n",
       "    </tr>\n",
       "    <tr>\n",
       "      <th>462</th>\n",
       "      <td>2022-10-01</td>\n",
       "      <td>Nord</td>\n",
       "      <td>249564</td>\n",
       "      <td>2022</td>\n",
       "      <td>10</td>\n",
       "    </tr>\n",
       "    <tr>\n",
       "      <th>463</th>\n",
       "      <td>2022-10-01</td>\n",
       "      <td>Plateau Central</td>\n",
       "      <td>35399</td>\n",
       "      <td>2022</td>\n",
       "      <td>10</td>\n",
       "    </tr>\n",
       "    <tr>\n",
       "      <th>464</th>\n",
       "      <td>2022-10-01</td>\n",
       "      <td>Sahel</td>\n",
       "      <td>496804</td>\n",
       "      <td>2022</td>\n",
       "      <td>10</td>\n",
       "    </tr>\n",
       "    <tr>\n",
       "      <th>465</th>\n",
       "      <td>2022-10-01</td>\n",
       "      <td>Sud-Ouest</td>\n",
       "      <td>51891</td>\n",
       "      <td>2022</td>\n",
       "      <td>10</td>\n",
       "    </tr>\n",
       "  </tbody>\n",
       "</table>\n",
       "<p>466 rows × 5 columns</p>\n",
       "</div>"
      ],
      "text/plain": [
       "          Date           Region     PDI  Year  Month\n",
       "0   2018-07-01             Nord     558  2018      7\n",
       "1   2018-08-01      Centre-Nord    2950  2018      8\n",
       "2   2018-09-01      Centre-Nord     669  2018      9\n",
       "3   2019-01-01           Centre       0  2019      1\n",
       "4   2019-01-01      Centre-Nord   14964  2019      1\n",
       "..         ...              ...     ...   ...    ...\n",
       "461 2022-10-01    Hauts-Bassins   51148  2022     10\n",
       "462 2022-10-01             Nord  249564  2022     10\n",
       "463 2022-10-01  Plateau Central   35399  2022     10\n",
       "464 2022-10-01            Sahel  496804  2022     10\n",
       "465 2022-10-01        Sud-Ouest   51891  2022     10\n",
       "\n",
       "[466 rows x 5 columns]"
      ]
     },
     "execution_count": 10,
     "metadata": {},
     "output_type": "execute_result"
    }
   ],
   "source": [
    "IDP_data_m = pd.read_csv(\"/home/adzavon/Documents/MSC_Data_Analysis/Migration_IDP/new_period.csv\")\n",
    "IDP_data_m['Date'] = pd.to_datetime(IDP_data_m['Date'])\n",
    "IDP_data_m = IDP_data_m.astype({'PDI':'int'})\n",
    "IDP_data = IDP_data_m.groupby([\"Date\", \"Region\"], as_index=False)[\"PDI\"].max()\n",
    "\n",
    "# new_Region_IDP_01 = IDP_data.loc[IDP_data['Date'].dt.month ==3]\n",
    "# new_Region_IDP_04 = IDP_data.loc[IDP_data['Date'].dt.month ==9]\n",
    "# Flux_IDP_01 = pd.merge(new_Region_IDP_01,new_Region_IDP_04, how=\"outer\")\n",
    "# Flux_IDP_01\n",
    "IDP_data[\"Year\"]=IDP_data[\"Date\"].dt.year\n",
    "IDP_data[\"Month\"]=IDP_data[\"Date\"].dt.month\n",
    "IDP_data"
   ]
  },
  {
   "cell_type": "code",
   "execution_count": 11,
   "metadata": {},
   "outputs": [
    {
     "data": {
      "image/png": "[encoded data removed]",
      "text/plain": [
       "<Figure size 1000x700 with 2 Axes>"
      ]
     },
     "metadata": {},
     "output_type": "display_data"
    }
   ],
   "source": [
    "import pandas as pd\n",
    "import seaborn as sns\n",
    "import matplotlib.pyplot as plt\n",
    "\n",
    "fig = plt.figure(figsize=(10,7))\n",
    "# Create a pivot table to aggregate the data by year, month, and region\n",
    "pivot_table = pd.pivot_table(IDP_data, values='PDI',\n",
    "                             index=['Year', 'Month'], \n",
    "                             columns=['Region'], \n",
    "                             aggfunc='max'\n",
    "                            )\n",
    "\n",
    "# Create a heatmap using seaborn\n",
    "sns.heatmap(pivot_table, cmap='YlOrRd',linewidths=0.5)\n",
    "\n",
    "# Set the plot title and axis labels\n",
    "plt.title('PDI by Month and Region')\n",
    "plt.xlabel('Region')\n",
    "plt.ylabel('Year-Month')\n",
    "\n",
    "# Show the plot\n",
    "plt.show()\n"
   ]
  },
  {
   "cell_type": "code",
   "execution_count": 12,
   "metadata": {},
   "outputs": [
    {
     "data": {
      "image/png": "[encoded data removed]",
      "text/plain": [
       "<Figure size 1000x700 with 2 Axes>"
      ]
     },
     "metadata": {},
     "output_type": "display_data"
    }
   ],
   "source": [
    "import pandas as pd\n",
    "import seaborn as sns\n",
    "import matplotlib.pyplot as plt\n",
    "plt.rcParams[\"font.family\"] = \"serif\"\n",
    "plt.rcParams[\"font.serif\"] = \"Times New Roman\"\n",
    "\n",
    "fig = plt.figure(figsize=(10,7))\n",
    "# Create a pivot table to aggregate the data by year, month, and region\n",
    "pivot_table = pd.pivot_table(IDP_data, \n",
    "                             values='PDI',\n",
    "                             index=['Year', 'Month'], \n",
    "                             columns=['Region'], \n",
    "                             aggfunc='max'\n",
    "                            )\n",
    "\n",
    "# Create a heatmap using seaborn\n",
    "sns.heatmap(pivot_table, cmap='YlOrRd',linewidths=0.5)\n",
    "\n",
    "# Set the plot title and axis labels\n",
    "plt.title('Internal Displced People by Month and Region',fontsize=20)\n",
    "plt.xlabel('Region',fontsize=15)\n",
    "plt.ylabel('Date',fontsize=15)\n",
    "plt.xticks(fontsize=13 )\n",
    "plt.yticks(fontsize=13 )\n",
    "\n",
    "# Show the plot\n",
    "plt.show()\n",
    "fig.savefig(\"Internal_Displced_People_by_Month_and_Region.png\")"
   ]
  },
  {
   "cell_type": "code",
   "execution_count": null,
   "metadata": {},
   "outputs": [],
   "source": []
  },
  {
   "cell_type": "code",
   "execution_count": null,
   "metadata": {},
   "outputs": [],
   "source": []
  },
  {
   "cell_type": "code",
   "execution_count": 13,
   "metadata": {},
   "outputs": [
    {
     "name": "stdout",
     "output_type": "stream",
     "text": [
      "          X1        X2          Y\n",
      "0   7.828739  3.746119   7.890001\n",
      "1  11.994691  4.362248  11.725288\n",
      "2  10.565957  5.907105   8.714577\n",
      "3   6.987411  3.571319   5.311973\n",
      "4   8.842799  4.859931  10.053057\n"
     ]
    }
   ],
   "source": [
    "import pandas as pd\n",
    "import numpy as np\n",
    "\n",
    "# Create the dataset\n",
    "np.random.seed(123)\n",
    "n = 24\n",
    "X1 = np.random.normal(loc=10, scale=2, size=n)\n",
    "X2 = np.random.normal(loc=5, scale=1, size=n)\n",
    "Y = 0.5*X1 + 0.8*X2 + np.random.normal(loc=0, scale=1, size=n)\n",
    "data = pd.DataFrame({'X1': X1, 'X2': X2, 'Y': Y})\n",
    "\n",
    "# Print the first few rows of the dataset\n",
    "print(data.head())\n"
   ]
  },
  {
   "cell_type": "code",
   "execution_count": null,
   "metadata": {},
   "outputs": [],
   "source": []
  },
  {
   "cell_type": "code",
   "execution_count": null,
   "metadata": {},
   "outputs": [],
   "source": []
  },
  {
   "cell_type": "code",
   "execution_count": 14,
   "metadata": {},
   "outputs": [],
   "source": [
    "# import climetlab as cml\n",
    "# data = cml.load_dataset(\"era5-temperature\", domain = \"France\", period = 2000)"
   ]
  },
  {
   "cell_type": "code",
   "execution_count": 15,
   "metadata": {},
   "outputs": [],
   "source": [
    "# cml.plot_map(data[\"2000-06-09 18:00\"])"
   ]
  },
  {
   "cell_type": "code",
   "execution_count": null,
   "metadata": {},
   "outputs": [],
   "source": []
  },
  {
   "cell_type": "code",
   "execution_count": 16,
   "metadata": {},
   "outputs": [
    {
     "data": {
      "application/vnd.plotly.v1+json": {
       "config": {
        "plotlyServerURL": "https://plot.ly"
       },
       "data": [
        {
         "colorscale": [
          [
           0,
           "lightgrey"
          ],
          [
           1,
           "lightgrey"
          ]
         ],
         "featureidkey": "properties.iso_a3",
         "geojson": {
          "bbox": [
           -5.470564947929006,
           9.610834865757141,
           2.177107781593776,
           15.116157741755728
          ],
          "features": [
           {
            "bbox": [
             -5.470564947929006,
             9.610834865757141,
             2.177107781593776,
             15.116157741755728
            ],
            "geometry": {
             "coordinates": [
              [
               [
                -5.404341599946974,
                10.370736802609146
               ],
               [
                -5.470564947929006,
                10.951269842976048
               ],
               [
                -5.1978425765086484,
                11.37514577885014
               ],
               [
                -5.220941941743121,
                11.713858954307227
               ],
               [
                -4.427166103523803,
                12.542645575404295
               ],
               [
                -4.28040503581488,
                13.228443508349741
               ],
               [
                -4.006390753587226,
                13.472485459848116
               ],
               [
                -3.522802700199861,
                13.337661647998615
               ],
               [
                -3.1037068343127596,
                13.541266791228594
               ],
               [
                -2.9676944645205765,
                13.79815033615151
               ],
               [
                -2.1918245100903846,
                14.246417548067356
               ],
               [
                -2.001035122068771,
                14.559008287000893
               ],
               [
                -1.0663634912056636,
                14.973815009007765
               ],
               [
                -0.5158544580003479,
                15.116157741755728
               ],
               [
                -0.2662572900305804,
                14.924308986872148
               ],
               [
                0.3748922054146817,
                14.92890818934613
               ],
               [
                0.29564639649510127,
                14.444234930880654
               ],
               [
                0.429927605805517,
                13.988733018443924
               ],
               [
                0.9930456884900708,
                13.335749620003824
               ],
               [
                1.0241032242974768,
                12.851825669806574
               ],
               [
                2.177107781593776,
                12.625017808477535
               ],
               [
                2.1544735042499212,
                11.940150051313339
               ],
               [
                1.9359855485198807,
                11.641150214072553
               ],
               [
                1.4471781754710662,
                11.547719224488858
               ],
               [
                1.2434696793764886,
                11.110510769083461
               ],
               [
                0.8995630224740694,
                10.99733938236426
               ],
               [
                0.023802524423700785,
                11.018681748900804
               ],
               [
                -0.43870154458858224,
                11.098340969278722
               ],
               [
                -0.7615758935481834,
                10.936929633015055
               ],
               [
                -1.2033577132114317,
                11.009819240762738
               ],
               [
                -2.9404093082704605,
                10.962690334512558
               ],
               [
                -2.9638962467471117,
                10.395334784380083
               ],
               [
                -2.8274963037127065,
                9.642460842319778
               ],
               [
                -3.511898972986273,
                9.90032623945622
               ],
               [
                -3.9804491845766847,
                9.8623440617217
               ],
               [
                -4.3302469547603835,
                9.610834865757141
               ],
               [
                -4.7798835921319665,
                9.821984768101743
               ],
               [
                -4.954653286143099,
                10.152713934769736
               ],
               [
                -5.404341599946974,
                10.370736802609146
               ]
              ]
             ],
             "type": "Polygon"
            },
            "id": "65",
            "properties": {
             "continent": "Africa",
             "gdp_md_est": 15990,
             "iso_a3": "BFA",
             "name": "Burkina Faso",
             "pop_est": 20321378
            },
            "type": "Feature"
           }
          ],
          "type": "FeatureCollection"
         },
         "hovertemplate": "iso_a3=%{location}<extra></extra>",
         "locations": [
          "BFA"
         ],
         "name": "",
         "showlegend": true,
         "showscale": false,
         "subplot": "mapbox",
         "type": "choroplethmapbox",
         "z": [
          1
         ]
        }
       ],
       "layout": {
        "legend": {
         "tracegroupgap": 0
        },
        "mapbox": {
         "center": {
          "lat": 12.311650494136712,
          "lon": -1.77653745205594
         },
         "domain": {
          "x": [
           0,
           1
          ],
          "y": [
           0,
           1
          ]
         },
         "layers": [
          {
           "coordinates": [
            [
             -2.87653745205594,
             13.411650494136712
            ],
            [
             -0.67653745205594,
             13.411650494136712
            ],
            [
             -0.67653745205594,
             11.211650494136713
            ],
            [
             -2.87653745205594,
             11.211650494136713
            ]
           ],
           "source": "data:image/png;base64,iVBORw0KGgoAAAANSUhEUgAAAGQAAABkCAYAAABw4pVUAAADpUlEQVR4Xu2dTUgUYRzG/6PiB5ayWrDblyURKbJgELaQJQWRCFESdYgu2alb16BLdejSzaNXg5C62i07hdcgD0KRSLhG9oVmazZvjAj2ddl53gdemMfzPA8zv9/7sTO4s5HpLygCUVBno5MxCQlsEEhIaEIWPq2e9HlOhVzTc599WeuKxsYrrrzo57LzeWdDg25AUtLzjO4+qLi3c35Wrv0dzq5fiyUkvQ+TEAAeIyohDKpAp4QA8BhRCWFQBTolBIDHiEoIgyrQKSEAPEZUQhhUgU4JAeAxohLCoAp0SggAjxGVEAZVoFNCAHiMqIQwqAKdEgLAY0QlhEEV6JQQAB4jKiEMqkCnhADwGFEJYVAFOiUEgMeISgiDKtApIQA8RlRCGFSBTgkB4DGiEsKgCnRKCACPEZUQBlWgU0IAeIyohDCoAp0SAsBjRCWEQRXolBAAHiMqIQyqQKeEAPAYUQlhUAU6JQSAx4hKCIMq0CkhADxGVEIYVIFOCQHgMaISwqAKdEoIAI8RlRAGVaBTQgB4jKiEMKgCnRICwGNEJYRBFeiUEAAeIyohDKpAp4QA8BhRCWFQBTolBIDHiEoIgyrQGbyQrL3oOWghiYzbH6anXq19BMbcVrS7vs3u7egL+r3CwQsZfjc59eJ72YuQUmPenuwelJC0NJMZIiFp6ZmZ71eNSwggI4mGLuR00x4brZyZ+LHiXoOXuhGvqY0amrtW7xzI5T776Es6MrWHjLR025XJki3P+/nxge37nB2+6vfHBzIn5NJEyb6+8SOkpdNZ8YaEpF4dkhkiIanxmfne1CUEkJFEJQQEGPqnLM0QULBmCAhQMwQESLkPGbHLzsXT+KmZRbHrG154+sjXs6zMLVm9vc4ubntcrl0qe7lzjQ/2tJ7PLxckJOXwPtYX2/DMTauZfZmy4c/Y+qkLdq6/0yQkJU4JSQnut5jXRycSIiFVEcjcpq4ZUtX4+O/BWrIAhsE/7dUMAexuRjVDAIaaIQC8JKpNHQSoG0MQoPYQEKDvh4sSIiFVEdAeUhWufw8OfQ9pL8ZWPDszU7O28h681I24q2ts0MdegGTheGxHd963+qVZoGUrutZ+yO8/ymVtD5EQcBz63kMkREKqI6Alqzpefx+tPQTjZ1qyQIDaQ0CAod+HUGbI2HjFlRdBcpvx7i5nJ+ZGLZr38n0Y+3mk324Vd5mvL30ONXfYwLMe+7bg53rbepx15R5a3Zd5L4XrrXvtF2OWdrrBlNq/AAAAAElFTkSuQmCC",
           "sourcetype": "image"
          }
         ],
         "style": "carto-positron",
         "zoom": 3
        },
        "margin": {
         "b": 0,
         "l": 0,
         "r": 0,
         "t": 0
        },
        "showlegend": false,
        "template": {
         "data": {
          "bar": [
           {
            "error_x": {
             "color": "#2a3f5f"
            },
            "error_y": {
             "color": "#2a3f5f"
            },
            "marker": {
             "line": {
              "color": "#E5ECF6",
              "width": 0.5
             },
             "pattern": {
              "fillmode": "overlay",
              "size": 10,
              "solidity": 0.2
             }
            },
            "type": "bar"
           }
          ],
          "barpolar": [
           {
            "marker": {
             "line": {
              "color": "#E5ECF6",
              "width": 0.5
             },
             "pattern": {
              "fillmode": "overlay",
              "size": 10,
              "solidity": 0.2
             }
            },
            "type": "barpolar"
           }
          ],
          "carpet": [
           {
            "aaxis": {
             "endlinecolor": "#2a3f5f",
             "gridcolor": "white",
             "linecolor": "white",
             "minorgridcolor": "white",
             "startlinecolor": "#2a3f5f"
            },
            "baxis": {
             "endlinecolor": "#2a3f5f",
             "gridcolor": "white",
             "linecolor": "white",
             "minorgridcolor": "white",
             "startlinecolor": "#2a3f5f"
            },
            "type": "carpet"
           }
          ],
          "choropleth": [
           {
            "colorbar": {
             "outlinewidth": 0,
             "ticks": ""
            },
            "type": "choropleth"
           }
          ],
          "contour": [
           {
            "colorbar": {
             "outlinewidth": 0,
             "ticks": ""
            },
            "colorscale": [
             [
              0,
              "#0d0887"
             ],
             [
              0.1111111111111111,
              "#46039f"
             ],
             [
              0.2222222222222222,
              "#7201a8"
             ],
             [
              0.3333333333333333,
              "#9c179e"
             ],
             [
              0.4444444444444444,
              "#bd3786"
             ],
             [
              0.5555555555555556,
              "#d8576b"
             ],
             [
              0.6666666666666666,
              "#ed7953"
             ],
             [
              0.7777777777777778,
              "#fb9f3a"
             ],
             [
              0.8888888888888888,
              "#fdca26"
             ],
             [
              1,
              "#f0f921"
             ]
            ],
            "type": "contour"
           }
          ],
          "contourcarpet": [
           {
            "colorbar": {
             "outlinewidth": 0,
             "ticks": ""
            },
            "type": "contourcarpet"
           }
          ],
          "heatmap": [
           {
            "colorbar": {
             "outlinewidth": 0,
             "ticks": ""
            },
            "colorscale": [
             [
              0,
              "#0d0887"
             ],
             [
              0.1111111111111111,
              "#46039f"
             ],
             [
              0.2222222222222222,
              "#7201a8"
             ],
             [
              0.3333333333333333,
              "#9c179e"
             ],
             [
              0.4444444444444444,
              "#bd3786"
             ],
             [
              0.5555555555555556,
              "#d8576b"
             ],
             [
              0.6666666666666666,
              "#ed7953"
             ],
             [
              0.7777777777777778,
              "#fb9f3a"
             ],
             [
              0.8888888888888888,
              "#fdca26"
             ],
             [
              1,
              "#f0f921"
             ]
            ],
            "type": "heatmap"
           }
          ],
          "heatmapgl": [
           {
            "colorbar": {
             "outlinewidth": 0,
             "ticks": ""
            },
            "colorscale": [
             [
              0,
              "#0d0887"
             ],
             [
              0.1111111111111111,
              "#46039f"
             ],
             [
              0.2222222222222222,
              "#7201a8"
             ],
             [
              0.3333333333333333,
              "#9c179e"
             ],
             [
              0.4444444444444444,
              "#bd3786"
             ],
             [
              0.5555555555555556,
              "#d8576b"
             ],
             [
              0.6666666666666666,
              "#ed7953"
             ],
             [
              0.7777777777777778,
              "#fb9f3a"
             ],
             [
              0.8888888888888888,
              "#fdca26"
             ],
             [
              1,
              "#f0f921"
             ]
            ],
            "type": "heatmapgl"
           }
          ],
          "histogram": [
           {
            "marker": {
             "pattern": {
              "fillmode": "overlay",
              "size": 10,
              "solidity": 0.2
             }
            },
            "type": "histogram"
           }
          ],
          "histogram2d": [
           {
            "colorbar": {
             "outlinewidth": 0,
             "ticks": ""
            },
            "colorscale": [
             [
              0,
              "#0d0887"
             ],
             [
              0.1111111111111111,
              "#46039f"
             ],
             [
              0.2222222222222222,
              "#7201a8"
             ],
             [
              0.3333333333333333,
              "#9c179e"
             ],
             [
              0.4444444444444444,
              "#bd3786"
             ],
             [
              0.5555555555555556,
              "#d8576b"
             ],
             [
              0.6666666666666666,
              "#ed7953"
             ],
             [
              0.7777777777777778,
              "#fb9f3a"
             ],
             [
              0.8888888888888888,
              "#fdca26"
             ],
             [
              1,
              "#f0f921"
             ]
            ],
            "type": "histogram2d"
           }
          ],
          "histogram2dcontour": [
           {
            "colorbar": {
             "outlinewidth": 0,
             "ticks": ""
            },
            "colorscale": [
             [
              0,
              "#0d0887"
             ],
             [
              0.1111111111111111,
              "#46039f"
             ],
             [
              0.2222222222222222,
              "#7201a8"
             ],
             [
              0.3333333333333333,
              "#9c179e"
             ],
             [
              0.4444444444444444,
              "#bd3786"
             ],
             [
              0.5555555555555556,
              "#d8576b"
             ],
             [
              0.6666666666666666,
              "#ed7953"
             ],
             [
              0.7777777777777778,
              "#fb9f3a"
             ],
             [
              0.8888888888888888,
              "#fdca26"
             ],
             [
              1,
              "#f0f921"
             ]
            ],
            "type": "histogram2dcontour"
           }
          ],
          "mesh3d": [
           {
            "colorbar": {
             "outlinewidth": 0,
             "ticks": ""
            },
            "type": "mesh3d"
           }
          ],
          "parcoords": [
           {
            "line": {
             "colorbar": {
              "outlinewidth": 0,
              "ticks": ""
             }
            },
            "type": "parcoords"
           }
          ],
          "pie": [
           {
            "automargin": true,
            "type": "pie"
           }
          ],
          "scatter": [
           {
            "fillpattern": {
             "fillmode": "overlay",
             "size": 10,
             "solidity": 0.2
            },
            "type": "scatter"
           }
          ],
          "scatter3d": [
           {
            "line": {
             "colorbar": {
              "outlinewidth": 0,
              "ticks": ""
             }
            },
            "marker": {
             "colorbar": {
              "outlinewidth": 0,
              "ticks": ""
             }
            },
            "type": "scatter3d"
           }
          ],
          "scattercarpet": [
           {
            "marker": {
             "colorbar": {
              "outlinewidth": 0,
              "ticks": ""
             }
            },
            "type": "scattercarpet"
           }
          ],
          "scattergeo": [
           {
            "marker": {
             "colorbar": {
              "outlinewidth": 0,
              "ticks": ""
             }
            },
            "type": "scattergeo"
           }
          ],
          "scattergl": [
           {
            "marker": {
             "colorbar": {
              "outlinewidth": 0,
              "ticks": ""
             }
            },
            "type": "scattergl"
           }
          ],
          "scattermapbox": [
           {
            "marker": {
             "colorbar": {
              "outlinewidth": 0,
              "ticks": ""
             }
            },
            "type": "scattermapbox"
           }
          ],
          "scatterpolar": [
           {
            "marker": {
             "colorbar": {
              "outlinewidth": 0,
              "ticks": ""
             }
            },
            "type": "scatterpolar"
           }
          ],
          "scatterpolargl": [
           {
            "marker": {
             "colorbar": {
              "outlinewidth": 0,
              "ticks": ""
             }
            },
            "type": "scatterpolargl"
           }
          ],
          "scatterternary": [
           {
            "marker": {
             "colorbar": {
              "outlinewidth": 0,
              "ticks": ""
             }
            },
            "type": "scatterternary"
           }
          ],
          "surface": [
           {
            "colorbar": {
             "outlinewidth": 0,
             "ticks": ""
            },
            "colorscale": [
             [
              0,
              "#0d0887"
             ],
             [
              0.1111111111111111,
              "#46039f"
             ],
             [
              0.2222222222222222,
              "#7201a8"
             ],
             [
              0.3333333333333333,
              "#9c179e"
             ],
             [
              0.4444444444444444,
              "#bd3786"
             ],
             [
              0.5555555555555556,
              "#d8576b"
             ],
             [
              0.6666666666666666,
              "#ed7953"
             ],
             [
              0.7777777777777778,
              "#fb9f3a"
             ],
             [
              0.8888888888888888,
              "#fdca26"
             ],
             [
              1,
              "#f0f921"
             ]
            ],
            "type": "surface"
           }
          ],
          "table": [
           {
            "cells": {
             "fill": {
              "color": "#EBF0F8"
             },
             "line": {
              "color": "white"
             }
            },
            "header": {
             "fill": {
              "color": "#C8D4E3"
             },
             "line": {
              "color": "white"
             }
            },
            "type": "table"
           }
          ]
         },
         "layout": {
          "annotationdefaults": {
           "arrowcolor": "#2a3f5f",
           "arrowhead": 0,
           "arrowwidth": 1
          },
          "autotypenumbers": "strict",
          "coloraxis": {
           "colorbar": {
            "outlinewidth": 0,
            "ticks": ""
           }
          },
          "colorscale": {
           "diverging": [
            [
             0,
             "#8e0152"
            ],
            [
             0.1,
             "#c51b7d"
            ],
            [
             0.2,
             "#de77ae"
            ],
            [
             0.3,
             "#f1b6da"
            ],
            [
             0.4,
             "#fde0ef"
            ],
            [
             0.5,
             "#f7f7f7"
            ],
            [
             0.6,
             "#e6f5d0"
            ],
            [
             0.7,
             "#b8e186"
            ],
            [
             0.8,
             "#7fbc41"
            ],
            [
             0.9,
             "#4d9221"
            ],
            [
             1,
             "#276419"
            ]
           ],
           "sequential": [
            [
             0,
             "#0d0887"
            ],
            [
             0.1111111111111111,
             "#46039f"
            ],
            [
             0.2222222222222222,
             "#7201a8"
            ],
            [
             0.3333333333333333,
             "#9c179e"
            ],
            [
             0.4444444444444444,
             "#bd3786"
            ],
            [
             0.5555555555555556,
             "#d8576b"
            ],
            [
             0.6666666666666666,
             "#ed7953"
            ],
            [
             0.7777777777777778,
             "#fb9f3a"
            ],
            [
             0.8888888888888888,
             "#fdca26"
            ],
            [
             1,
             "#f0f921"
            ]
           ],
           "sequentialminus": [
            [
             0,
             "#0d0887"
            ],
            [
             0.1111111111111111,
             "#46039f"
            ],
            [
             0.2222222222222222,
             "#7201a8"
            ],
            [
             0.3333333333333333,
             "#9c179e"
            ],
            [
             0.4444444444444444,
             "#bd3786"
            ],
            [
             0.5555555555555556,
             "#d8576b"
            ],
            [
             0.6666666666666666,
             "#ed7953"
            ],
            [
             0.7777777777777778,
             "#fb9f3a"
            ],
            [
             0.8888888888888888,
             "#fdca26"
            ],
            [
             1,
             "#f0f921"
            ]
           ]
          },
          "colorway": [
           "#636efa",
           "#EF553B",
           "#00cc96",
           "#ab63fa",
           "#FFA15A",
           "#19d3f3",
           "#FF6692",
           "#B6E880",
           "#FF97FF",
           "#FECB52"
          ],
          "font": {
           "color": "#2a3f5f"
          },
          "geo": {
           "bgcolor": "white",
           "lakecolor": "white",
           "landcolor": "#E5ECF6",
           "showlakes": true,
           "showland": true,
           "subunitcolor": "white"
          },
          "hoverlabel": {
           "align": "left"
          },
          "hovermode": "closest",
          "mapbox": {
           "style": "light"
          },
          "paper_bgcolor": "white",
          "plot_bgcolor": "#E5ECF6",
          "polar": {
           "angularaxis": {
            "gridcolor": "white",
            "linecolor": "white",
            "ticks": ""
           },
           "bgcolor": "#E5ECF6",
           "radialaxis": {
            "gridcolor": "white",
            "linecolor": "white",
            "ticks": ""
           }
          },
          "scene": {
           "xaxis": {
            "backgroundcolor": "#E5ECF6",
            "gridcolor": "white",
            "gridwidth": 2,
            "linecolor": "white",
            "showbackground": true,
            "ticks": "",
            "zerolinecolor": "white"
           },
           "yaxis": {
            "backgroundcolor": "#E5ECF6",
            "gridcolor": "white",
            "gridwidth": 2,
            "linecolor": "white",
            "showbackground": true,
            "ticks": "",
            "zerolinecolor": "white"
           },
           "zaxis": {
            "backgroundcolor": "#E5ECF6",
            "gridcolor": "white",
            "gridwidth": 2,
            "linecolor": "white",
            "showbackground": true,
            "ticks": "",
            "zerolinecolor": "white"
           }
          },
          "shapedefaults": {
           "line": {
            "color": "#2a3f5f"
           }
          },
          "ternary": {
           "aaxis": {
            "gridcolor": "white",
            "linecolor": "white",
            "ticks": ""
           },
           "baxis": {
            "gridcolor": "white",
            "linecolor": "white",
            "ticks": ""
           },
           "bgcolor": "#E5ECF6",
           "caxis": {
            "gridcolor": "white",
            "linecolor": "white",
            "ticks": ""
           }
          },
          "title": {
           "x": 0.05
          },
          "xaxis": {
           "automargin": true,
           "gridcolor": "white",
           "linecolor": "white",
           "ticks": "",
           "title": {
            "standoff": 15
           },
           "zerolinecolor": "white",
           "zerolinewidth": 2
          },
          "yaxis": {
           "automargin": true,
           "gridcolor": "white",
           "linecolor": "white",
           "ticks": "",
           "title": {
            "standoff": 15
           },
           "zerolinecolor": "white",
           "zerolinewidth": 2
          }
         }
        }
       }
      },
      "text/html": [
       "<div>                            <div id=\"38820fcd-fcf5-47e1-9f58-0045547d789a\" class=\"plotly-graph-div\" style=\"height:525px; width:100%;\"></div>            <script type=\"text/javascript\">                require([\"plotly\"], function(Plotly) {                    window.PLOTLYENV=window.PLOTLYENV || {};                                    if (document.getElementById(\"38820fcd-fcf5-47e1-9f58-0045547d789a\")) {                    Plotly.newPlot(                        \"38820fcd-fcf5-47e1-9f58-0045547d789a\",                        [{\"colorscale\":[[0.0,\"lightgrey\"],[1.0,\"lightgrey\"]],\"featureidkey\":\"properties.iso_a3\",\"geojson\":{\"type\":\"FeatureCollection\",\"features\":[{\"id\":\"65\",\"type\":\"Feature\",\"properties\":{\"pop_est\":20321378.0,\"continent\":\"Africa\",\"name\":\"Burkina Faso\",\"iso_a3\":\"BFA\",\"gdp_md_est\":15990},\"geometry\":{\"type\":\"Polygon\",\"coordinates\":[[[-5.404341599946974,10.370736802609146],[-5.470564947929006,10.951269842976048],[-5.1978425765086484,11.37514577885014],[-5.220941941743121,11.713858954307227],[-4.427166103523803,12.542645575404295],[-4.28040503581488,13.228443508349741],[-4.006390753587226,13.472485459848116],[-3.522802700199861,13.337661647998615],[-3.1037068343127596,13.541266791228594],[-2.9676944645205765,13.79815033615151],[-2.1918245100903846,14.246417548067356],[-2.001035122068771,14.559008287000893],[-1.0663634912056636,14.973815009007765],[-0.5158544580003479,15.116157741755728],[-0.2662572900305804,14.924308986872148],[0.3748922054146817,14.92890818934613],[0.29564639649510127,14.444234930880654],[0.429927605805517,13.988733018443924],[0.9930456884900708,13.335749620003824],[1.0241032242974768,12.851825669806574],[2.177107781593776,12.625017808477535],[2.1544735042499212,11.940150051313339],[1.9359855485198807,11.641150214072553],[1.4471781754710662,11.547719224488858],[1.2434696793764886,11.110510769083461],[0.8995630224740694,10.99733938236426],[0.023802524423700785,11.018681748900804],[-0.43870154458858224,11.098340969278722],[-0.7615758935481834,10.936929633015055],[-1.2033577132114317,11.009819240762738],[-2.9404093082704605,10.962690334512558],[-2.9638962467471117,10.395334784380083],[-2.8274963037127065,9.642460842319778],[-3.511898972986273,9.90032623945622],[-3.9804491845766847,9.8623440617217],[-4.3302469547603835,9.610834865757141],[-4.7798835921319665,9.821984768101743],[-4.954653286143099,10.152713934769736],[-5.404341599946974,10.370736802609146]]]},\"bbox\":[-5.470564947929006,9.610834865757141,2.177107781593776,15.116157741755728]}],\"bbox\":[-5.470564947929006,9.610834865757141,2.177107781593776,15.116157741755728]},\"hovertemplate\":\"iso_a3=%{location}<extra></extra>\",\"locations\":[\"BFA\"],\"name\":\"\",\"showlegend\":true,\"showscale\":false,\"subplot\":\"mapbox\",\"z\":[1],\"type\":\"choroplethmapbox\"}],                        {\"template\":{\"data\":{\"histogram2dcontour\":[{\"type\":\"histogram2dcontour\",\"colorbar\":{\"outlinewidth\":0,\"ticks\":\"\"},\"colorscale\":[[0.0,\"#0d0887\"],[0.1111111111111111,\"#46039f\"],[0.2222222222222222,\"#7201a8\"],[0.3333333333333333,\"#9c179e\"],[0.4444444444444444,\"#bd3786\"],[0.5555555555555556,\"#d8576b\"],[0.6666666666666666,\"#ed7953\"],[0.7777777777777778,\"#fb9f3a\"],[0.8888888888888888,\"#fdca26\"],[1.0,\"#f0f921\"]]}],\"choropleth\":[{\"type\":\"choropleth\",\"colorbar\":{\"outlinewidth\":0,\"ticks\":\"\"}}],\"histogram2d\":[{\"type\":\"histogram2d\",\"colorbar\":{\"outlinewidth\":0,\"ticks\":\"\"},\"colorscale\":[[0.0,\"#0d0887\"],[0.1111111111111111,\"#46039f\"],[0.2222222222222222,\"#7201a8\"],[0.3333333333333333,\"#9c179e\"],[0.4444444444444444,\"#bd3786\"],[0.5555555555555556,\"#d8576b\"],[0.6666666666666666,\"#ed7953\"],[0.7777777777777778,\"#fb9f3a\"],[0.8888888888888888,\"#fdca26\"],[1.0,\"#f0f921\"]]}],\"heatmap\":[{\"type\":\"heatmap\",\"colorbar\":{\"outlinewidth\":0,\"ticks\":\"\"},\"colorscale\":[[0.0,\"#0d0887\"],[0.1111111111111111,\"#46039f\"],[0.2222222222222222,\"#7201a8\"],[0.3333333333333333,\"#9c179e\"],[0.4444444444444444,\"#bd3786\"],[0.5555555555555556,\"#d8576b\"],[0.6666666666666666,\"#ed7953\"],[0.7777777777777778,\"#fb9f3a\"],[0.8888888888888888,\"#fdca26\"],[1.0,\"#f0f921\"]]}],\"heatmapgl\":[{\"type\":\"heatmapgl\",\"colorbar\":{\"outlinewidth\":0,\"ticks\":\"\"},\"colorscale\":[[0.0,\"#0d0887\"],[0.1111111111111111,\"#46039f\"],[0.2222222222222222,\"#7201a8\"],[0.3333333333333333,\"#9c179e\"],[0.4444444444444444,\"#bd3786\"],[0.5555555555555556,\"#d8576b\"],[0.6666666666666666,\"#ed7953\"],[0.7777777777777778,\"#fb9f3a\"],[0.8888888888888888,\"#fdca26\"],[1.0,\"#f0f921\"]]}],\"contourcarpet\":[{\"type\":\"contourcarpet\",\"colorbar\":{\"outlinewidth\":0,\"ticks\":\"\"}}],\"contour\":[{\"type\":\"contour\",\"colorbar\":{\"outlinewidth\":0,\"ticks\":\"\"},\"colorscale\":[[0.0,\"#0d0887\"],[0.1111111111111111,\"#46039f\"],[0.2222222222222222,\"#7201a8\"],[0.3333333333333333,\"#9c179e\"],[0.4444444444444444,\"#bd3786\"],[0.5555555555555556,\"#d8576b\"],[0.6666666666666666,\"#ed7953\"],[0.7777777777777778,\"#fb9f3a\"],[0.8888888888888888,\"#fdca26\"],[1.0,\"#f0f921\"]]}],\"surface\":[{\"type\":\"surface\",\"colorbar\":{\"outlinewidth\":0,\"ticks\":\"\"},\"colorscale\":[[0.0,\"#0d0887\"],[0.1111111111111111,\"#46039f\"],[0.2222222222222222,\"#7201a8\"],[0.3333333333333333,\"#9c179e\"],[0.4444444444444444,\"#bd3786\"],[0.5555555555555556,\"#d8576b\"],[0.6666666666666666,\"#ed7953\"],[0.7777777777777778,\"#fb9f3a\"],[0.8888888888888888,\"#fdca26\"],[1.0,\"#f0f921\"]]}],\"mesh3d\":[{\"type\":\"mesh3d\",\"colorbar\":{\"outlinewidth\":0,\"ticks\":\"\"}}],\"scatter\":[{\"fillpattern\":{\"fillmode\":\"overlay\",\"size\":10,\"solidity\":0.2},\"type\":\"scatter\"}],\"parcoords\":[{\"type\":\"parcoords\",\"line\":{\"colorbar\":{\"outlinewidth\":0,\"ticks\":\"\"}}}],\"scatterpolargl\":[{\"type\":\"scatterpolargl\",\"marker\":{\"colorbar\":{\"outlinewidth\":0,\"ticks\":\"\"}}}],\"bar\":[{\"error_x\":{\"color\":\"#2a3f5f\"},\"error_y\":{\"color\":\"#2a3f5f\"},\"marker\":{\"line\":{\"color\":\"#E5ECF6\",\"width\":0.5},\"pattern\":{\"fillmode\":\"overlay\",\"size\":10,\"solidity\":0.2}},\"type\":\"bar\"}],\"scattergeo\":[{\"type\":\"scattergeo\",\"marker\":{\"colorbar\":{\"outlinewidth\":0,\"ticks\":\"\"}}}],\"scatterpolar\":[{\"type\":\"scatterpolar\",\"marker\":{\"colorbar\":{\"outlinewidth\":0,\"ticks\":\"\"}}}],\"histogram\":[{\"marker\":{\"pattern\":{\"fillmode\":\"overlay\",\"size\":10,\"solidity\":0.2}},\"type\":\"histogram\"}],\"scattergl\":[{\"type\":\"scattergl\",\"marker\":{\"colorbar\":{\"outlinewidth\":0,\"ticks\":\"\"}}}],\"scatter3d\":[{\"type\":\"scatter3d\",\"line\":{\"colorbar\":{\"outlinewidth\":0,\"ticks\":\"\"}},\"marker\":{\"colorbar\":{\"outlinewidth\":0,\"ticks\":\"\"}}}],\"scattermapbox\":[{\"type\":\"scattermapbox\",\"marker\":{\"colorbar\":{\"outlinewidth\":0,\"ticks\":\"\"}}}],\"scatterternary\":[{\"type\":\"scatterternary\",\"marker\":{\"colorbar\":{\"outlinewidth\":0,\"ticks\":\"\"}}}],\"scattercarpet\":[{\"type\":\"scattercarpet\",\"marker\":{\"colorbar\":{\"outlinewidth\":0,\"ticks\":\"\"}}}],\"carpet\":[{\"aaxis\":{\"endlinecolor\":\"#2a3f5f\",\"gridcolor\":\"white\",\"linecolor\":\"white\",\"minorgridcolor\":\"white\",\"startlinecolor\":\"#2a3f5f\"},\"baxis\":{\"endlinecolor\":\"#2a3f5f\",\"gridcolor\":\"white\",\"linecolor\":\"white\",\"minorgridcolor\":\"white\",\"startlinecolor\":\"#2a3f5f\"},\"type\":\"carpet\"}],\"table\":[{\"cells\":{\"fill\":{\"color\":\"#EBF0F8\"},\"line\":{\"color\":\"white\"}},\"header\":{\"fill\":{\"color\":\"#C8D4E3\"},\"line\":{\"color\":\"white\"}},\"type\":\"table\"}],\"barpolar\":[{\"marker\":{\"line\":{\"color\":\"#E5ECF6\",\"width\":0.5},\"pattern\":{\"fillmode\":\"overlay\",\"size\":10,\"solidity\":0.2}},\"type\":\"barpolar\"}],\"pie\":[{\"automargin\":true,\"type\":\"pie\"}]},\"layout\":{\"autotypenumbers\":\"strict\",\"colorway\":[\"#636efa\",\"#EF553B\",\"#00cc96\",\"#ab63fa\",\"#FFA15A\",\"#19d3f3\",\"#FF6692\",\"#B6E880\",\"#FF97FF\",\"#FECB52\"],\"font\":{\"color\":\"#2a3f5f\"},\"hovermode\":\"closest\",\"hoverlabel\":{\"align\":\"left\"},\"paper_bgcolor\":\"white\",\"plot_bgcolor\":\"#E5ECF6\",\"polar\":{\"bgcolor\":\"#E5ECF6\",\"angularaxis\":{\"gridcolor\":\"white\",\"linecolor\":\"white\",\"ticks\":\"\"},\"radialaxis\":{\"gridcolor\":\"white\",\"linecolor\":\"white\",\"ticks\":\"\"}},\"ternary\":{\"bgcolor\":\"#E5ECF6\",\"aaxis\":{\"gridcolor\":\"white\",\"linecolor\":\"white\",\"ticks\":\"\"},\"baxis\":{\"gridcolor\":\"white\",\"linecolor\":\"white\",\"ticks\":\"\"},\"caxis\":{\"gridcolor\":\"white\",\"linecolor\":\"white\",\"ticks\":\"\"}},\"coloraxis\":{\"colorbar\":{\"outlinewidth\":0,\"ticks\":\"\"}},\"colorscale\":{\"sequential\":[[0.0,\"#0d0887\"],[0.1111111111111111,\"#46039f\"],[0.2222222222222222,\"#7201a8\"],[0.3333333333333333,\"#9c179e\"],[0.4444444444444444,\"#bd3786\"],[0.5555555555555556,\"#d8576b\"],[0.6666666666666666,\"#ed7953\"],[0.7777777777777778,\"#fb9f3a\"],[0.8888888888888888,\"#fdca26\"],[1.0,\"#f0f921\"]],\"sequentialminus\":[[0.0,\"#0d0887\"],[0.1111111111111111,\"#46039f\"],[0.2222222222222222,\"#7201a8\"],[0.3333333333333333,\"#9c179e\"],[0.4444444444444444,\"#bd3786\"],[0.5555555555555556,\"#d8576b\"],[0.6666666666666666,\"#ed7953\"],[0.7777777777777778,\"#fb9f3a\"],[0.8888888888888888,\"#fdca26\"],[1.0,\"#f0f921\"]],\"diverging\":[[0,\"#8e0152\"],[0.1,\"#c51b7d\"],[0.2,\"#de77ae\"],[0.3,\"#f1b6da\"],[0.4,\"#fde0ef\"],[0.5,\"#f7f7f7\"],[0.6,\"#e6f5d0\"],[0.7,\"#b8e186\"],[0.8,\"#7fbc41\"],[0.9,\"#4d9221\"],[1,\"#276419\"]]},\"xaxis\":{\"gridcolor\":\"white\",\"linecolor\":\"white\",\"ticks\":\"\",\"title\":{\"standoff\":15},\"zerolinecolor\":\"white\",\"automargin\":true,\"zerolinewidth\":2},\"yaxis\":{\"gridcolor\":\"white\",\"linecolor\":\"white\",\"ticks\":\"\",\"title\":{\"standoff\":15},\"zerolinecolor\":\"white\",\"automargin\":true,\"zerolinewidth\":2},\"scene\":{\"xaxis\":{\"backgroundcolor\":\"#E5ECF6\",\"gridcolor\":\"white\",\"linecolor\":\"white\",\"showbackground\":true,\"ticks\":\"\",\"zerolinecolor\":\"white\",\"gridwidth\":2},\"yaxis\":{\"backgroundcolor\":\"#E5ECF6\",\"gridcolor\":\"white\",\"linecolor\":\"white\",\"showbackground\":true,\"ticks\":\"\",\"zerolinecolor\":\"white\",\"gridwidth\":2},\"zaxis\":{\"backgroundcolor\":\"#E5ECF6\",\"gridcolor\":\"white\",\"linecolor\":\"white\",\"showbackground\":true,\"ticks\":\"\",\"zerolinecolor\":\"white\",\"gridwidth\":2}},\"shapedefaults\":{\"line\":{\"color\":\"#2a3f5f\"}},\"annotationdefaults\":{\"arrowcolor\":\"#2a3f5f\",\"arrowhead\":0,\"arrowwidth\":1},\"geo\":{\"bgcolor\":\"white\",\"landcolor\":\"#E5ECF6\",\"subunitcolor\":\"white\",\"showland\":true,\"showlakes\":true,\"lakecolor\":\"white\"},\"title\":{\"x\":0.05},\"mapbox\":{\"style\":\"light\"}}},\"mapbox\":{\"domain\":{\"x\":[0.0,1.0],\"y\":[0.0,1.0]},\"center\":{\"lon\":-1.77653745205594,\"lat\":12.311650494136712},\"zoom\":3,\"style\":\"carto-positron\",\"layers\":[{\"coordinates\":[[-2.87653745205594,13.411650494136712],[-0.67653745205594,13.411650494136712],[-0.67653745205594,11.211650494136713],[-2.87653745205594,11.211650494136713]],\"source\":\"data:image/png;base64,iVBORw0KGgoAAAANSUhEUgAAAGQAAABkCAYAAABw4pVUAAADpUlEQVR4Xu2dTUgUYRzG/6PiB5ayWrDblyURKbJgELaQJQWRCFESdYgu2alb16BLdejSzaNXg5C62i07hdcgD0KRSLhG9oVmazZvjAj2ddl53gdemMfzPA8zv9/7sTO4s5HpLygCUVBno5MxCQlsEEhIaEIWPq2e9HlOhVzTc599WeuKxsYrrrzo57LzeWdDg25AUtLzjO4+qLi3c35Wrv0dzq5fiyUkvQ+TEAAeIyohDKpAp4QA8BhRCWFQBTolBIDHiEoIgyrQKSEAPEZUQhhUgU4JAeAxohLCoAp0SggAjxGVEAZVoFNCAHiMqIQwqAKdEgLAY0QlhEEV6JQQAB4jKiEMqkCnhADwGFEJYVAFOiUEgMeISgiDKtApIQA8RlRCGFSBTgkB4DGiEsKgCnRKCACPEZUQBlWgU0IAeIyohDCoAp0SAsBjRCWEQRXolBAAHiMqIQyqQKeEAPAYUQlhUAU6JQSAx4hKCIMq0CkhADxGVEIYVIFOCQHgMaISwqAKdEoIAI8RlRAGVaBTQgB4jKiEMKgCnRICwGNEJYRBFeiUEAAeIyohDKpAp4QA8BhRCWFQBTolBIDHiEoIgyrQGbyQrL3oOWghiYzbH6anXq19BMbcVrS7vs3u7egL+r3CwQsZfjc59eJ72YuQUmPenuwelJC0NJMZIiFp6ZmZ71eNSwggI4mGLuR00x4brZyZ+LHiXoOXuhGvqY0amrtW7xzI5T776Es6MrWHjLR025XJki3P+/nxge37nB2+6vfHBzIn5NJEyb6+8SOkpdNZ8YaEpF4dkhkiIanxmfne1CUEkJFEJQQEGPqnLM0QULBmCAhQMwQESLkPGbHLzsXT+KmZRbHrG154+sjXs6zMLVm9vc4ubntcrl0qe7lzjQ/2tJ7PLxckJOXwPtYX2/DMTauZfZmy4c/Y+qkLdq6/0yQkJU4JSQnut5jXRycSIiFVEcjcpq4ZUtX4+O/BWrIAhsE/7dUMAexuRjVDAIaaIQC8JKpNHQSoG0MQoPYQEKDvh4sSIiFVEdAeUhWufw8OfQ9pL8ZWPDszU7O28h681I24q2ts0MdegGTheGxHd963+qVZoGUrutZ+yO8/ymVtD5EQcBz63kMkREKqI6Alqzpefx+tPQTjZ1qyQIDaQ0CAod+HUGbI2HjFlRdBcpvx7i5nJ+ZGLZr38n0Y+3mk324Vd5mvL30ONXfYwLMe+7bg53rbepx15R5a3Zd5L4XrrXvtF2OWdrrBlNq/AAAAAElFTkSuQmCC\",\"sourcetype\":\"image\"}]},\"legend\":{\"tracegroupgap\":0},\"margin\":{\"t\":0,\"l\":0,\"r\":0,\"b\":0},\"showlegend\":false},                        {\"responsive\": true}                    ).then(function(){\n",
       "                            \n",
       "var gd = document.getElementById('38820fcd-fcf5-47e1-9f58-0045547d789a');\n",
       "var x = new MutationObserver(function (mutations, observer) {{\n",
       "        var display = window.getComputedStyle(gd).display;\n",
       "        if (!display || display === 'none') {{\n",
       "            console.log([gd, 'removed!']);\n",
       "            Plotly.purge(gd);\n",
       "            observer.disconnect();\n",
       "        }}\n",
       "}});\n",
       "\n",
       "// Listen for the removal of the full notebook cells\n",
       "var notebookContainer = gd.closest('#notebook-container');\n",
       "if (notebookContainer) {{\n",
       "    x.observe(notebookContainer, {childList: true});\n",
       "}}\n",
       "\n",
       "// Listen for the clearing of the current output cell\n",
       "var outputEl = gd.closest('.output');\n",
       "if (outputEl) {{\n",
       "    x.observe(outputEl, {childList: true});\n",
       "}}\n",
       "\n",
       "                        })                };                });            </script>        </div>"
      ]
     },
     "metadata": {},
     "output_type": "display_data"
    }
   ],
   "source": [
    "import geopandas as gpd\n",
    "import plotly.express as px\n",
    "import numpy as np\n",
    "import base64, io\n",
    "\n",
    "# create an encocded image of graph...\n",
    "# change to generate graph you want\n",
    "def b64image(vals=np.random.randint(1, 25, 5)):\n",
    "    fig = px.bar(\n",
    "        pd.DataFrame({\"y\": vals}).pipe(\n",
    "            lambda d: d.assign(category=d.index.astype(str))\n",
    "        ),\n",
    "        y=\"y\",\n",
    "        color=\"category\",\n",
    "    ).update_layout(\n",
    "        showlegend=False,\n",
    "        xaxis_visible=False,\n",
    "        yaxis_visible=False,\n",
    "        bargap=0,\n",
    "        margin={\"l\": 0, \"r\": 0, \"t\": 0, \"b\": 0},\n",
    "        autosize=False,\n",
    "        height=100,\n",
    "        width=100,\n",
    "        paper_bgcolor=\"rgba(0,0,0,0)\",\n",
    "        plot_bgcolor=\"rgba(0,0,0,0)\",\n",
    "    )\n",
    "\n",
    "    b = io.BytesIO(fig.to_image(format=\"png\"))\n",
    "    b64 = base64.b64encode(b.getvalue())\n",
    "    return \"data:image/png;base64,\" + b64.decode(\"utf-8\"), fig\n",
    "\n",
    "# get some geometry\n",
    "world = gpd.read_file(gpd.datasets.get_path(\"naturalearth_lowres\"))\n",
    "# let's just work with a bounded version of europe\n",
    "eur = world.loc[\n",
    "    lambda d: d[\"name\"].eq(\"Burkina Faso\")\n",
    "    & ~d[\"iso_a3\"].isin([\"RUS\", \"NOR\", \"FRA\", \"ISL\"])\n",
    "]\n",
    "\n",
    "\n",
    "px.choropleth_mapbox(\n",
    "    eur,\n",
    "    geojson=eur.__geo_interface__,\n",
    "    locations=\"iso_a3\",\n",
    "    featureidkey=\"properties.iso_a3\",\n",
    "    color_discrete_sequence=[\"lightgrey\"],\n",
    ").update_layout(\n",
    "    margin={\"l\": 0, \"r\": 0, \"t\": 0, \"b\": 0},\n",
    "    showlegend=False,\n",
    "    mapbox_style=\"carto-positron\",\n",
    "    mapbox_center={\n",
    "        \"lon\": eur.unary_union.centroid.x,\n",
    "        \"lat\": eur.unary_union.centroid.y,\n",
    "    },\n",
    "    mapbox_zoom=3,\n",
    "    # add a plotly graph per country...\n",
    "    mapbox_layers=[\n",
    "        {\n",
    "            \"sourcetype\": \"image\",\n",
    "            # no data provided, use random values for each country\n",
    "            \"source\": b64image(vals=np.random.randint(1, 25, 5))[0],\n",
    "            # https://plotly.com/python/reference/layout/mapbox/#layout-mapbox-layers-items-layer-coordinates\n",
    "            # a few hops to get 4 cordinate pairs to meet mapbox requirement\n",
    "            \"coordinates\": [\n",
    "                list(p) for p in r.geometry.centroid.buffer(1.1).envelope.exterior.coords\n",
    "            ][0:-1][::-1],\n",
    "        }\n",
    "        for i, r in eur.iterrows()\n",
    "    ],\n",
    ")"
   ]
  },
  {
   "cell_type": "code",
   "execution_count": 17,
   "metadata": {},
   "outputs": [
    {
     "data": {
      "text/html": [
       "<div>\n",
       "<style scoped>\n",
       "    .dataframe tbody tr th:only-of-type {\n",
       "        vertical-align: middle;\n",
       "    }\n",
       "\n",
       "    .dataframe tbody tr th {\n",
       "        vertical-align: top;\n",
       "    }\n",
       "\n",
       "    .dataframe thead th {\n",
       "        text-align: right;\n",
       "    }\n",
       "</style>\n",
       "<table border=\"1\" class=\"dataframe\">\n",
       "  <thead>\n",
       "    <tr style=\"text-align: right;\">\n",
       "      <th></th>\n",
       "      <th>pop_est</th>\n",
       "      <th>continent</th>\n",
       "      <th>name</th>\n",
       "      <th>iso_a3</th>\n",
       "      <th>gdp_md_est</th>\n",
       "      <th>geometry</th>\n",
       "    </tr>\n",
       "  </thead>\n",
       "  <tbody>\n",
       "    <tr>\n",
       "      <th>0</th>\n",
       "      <td>889953.0</td>\n",
       "      <td>Oceania</td>\n",
       "      <td>Fiji</td>\n",
       "      <td>FJI</td>\n",
       "      <td>5496</td>\n",
       "      <td>MULTIPOLYGON (((180.00000 -16.06713, 180.00000...</td>\n",
       "    </tr>\n",
       "    <tr>\n",
       "      <th>1</th>\n",
       "      <td>58005463.0</td>\n",
       "      <td>Africa</td>\n",
       "      <td>Tanzania</td>\n",
       "      <td>TZA</td>\n",
       "      <td>63177</td>\n",
       "      <td>POLYGON ((33.90371 -0.95000, 34.07262 -1.05982...</td>\n",
       "    </tr>\n",
       "    <tr>\n",
       "      <th>2</th>\n",
       "      <td>603253.0</td>\n",
       "      <td>Africa</td>\n",
       "      <td>W. Sahara</td>\n",
       "      <td>ESH</td>\n",
       "      <td>907</td>\n",
       "      <td>POLYGON ((-8.66559 27.65643, -8.66512 27.58948...</td>\n",
       "    </tr>\n",
       "    <tr>\n",
       "      <th>3</th>\n",
       "      <td>37589262.0</td>\n",
       "      <td>North America</td>\n",
       "      <td>Canada</td>\n",
       "      <td>CAN</td>\n",
       "      <td>1736425</td>\n",
       "      <td>MULTIPOLYGON (((-122.84000 49.00000, -122.9742...</td>\n",
       "    </tr>\n",
       "    <tr>\n",
       "      <th>4</th>\n",
       "      <td>328239523.0</td>\n",
       "      <td>North America</td>\n",
       "      <td>United States of America</td>\n",
       "      <td>USA</td>\n",
       "      <td>21433226</td>\n",
       "      <td>MULTIPOLYGON (((-122.84000 49.00000, -120.0000...</td>\n",
       "    </tr>\n",
       "    <tr>\n",
       "      <th>...</th>\n",
       "      <td>...</td>\n",
       "      <td>...</td>\n",
       "      <td>...</td>\n",
       "      <td>...</td>\n",
       "      <td>...</td>\n",
       "      <td>...</td>\n",
       "    </tr>\n",
       "    <tr>\n",
       "      <th>172</th>\n",
       "      <td>6944975.0</td>\n",
       "      <td>Europe</td>\n",
       "      <td>Serbia</td>\n",
       "      <td>SRB</td>\n",
       "      <td>51475</td>\n",
       "      <td>POLYGON ((18.82982 45.90887, 18.82984 45.90888...</td>\n",
       "    </tr>\n",
       "    <tr>\n",
       "      <th>173</th>\n",
       "      <td>622137.0</td>\n",
       "      <td>Europe</td>\n",
       "      <td>Montenegro</td>\n",
       "      <td>MNE</td>\n",
       "      <td>5542</td>\n",
       "      <td>POLYGON ((20.07070 42.58863, 19.80161 42.50009...</td>\n",
       "    </tr>\n",
       "    <tr>\n",
       "      <th>174</th>\n",
       "      <td>1794248.0</td>\n",
       "      <td>Europe</td>\n",
       "      <td>Kosovo</td>\n",
       "      <td>-99</td>\n",
       "      <td>7926</td>\n",
       "      <td>POLYGON ((20.59025 41.85541, 20.52295 42.21787...</td>\n",
       "    </tr>\n",
       "    <tr>\n",
       "      <th>175</th>\n",
       "      <td>1394973.0</td>\n",
       "      <td>North America</td>\n",
       "      <td>Trinidad and Tobago</td>\n",
       "      <td>TTO</td>\n",
       "      <td>24269</td>\n",
       "      <td>POLYGON ((-61.68000 10.76000, -61.10500 10.890...</td>\n",
       "    </tr>\n",
       "    <tr>\n",
       "      <th>176</th>\n",
       "      <td>11062113.0</td>\n",
       "      <td>Africa</td>\n",
       "      <td>S. Sudan</td>\n",
       "      <td>SSD</td>\n",
       "      <td>11998</td>\n",
       "      <td>POLYGON ((30.83385 3.50917, 29.95350 4.17370, ...</td>\n",
       "    </tr>\n",
       "  </tbody>\n",
       "</table>\n",
       "<p>177 rows × 6 columns</p>\n",
       "</div>"
      ],
      "text/plain": [
       "         pop_est      continent                      name iso_a3  gdp_md_est  \\\n",
       "0       889953.0        Oceania                      Fiji    FJI        5496   \n",
       "1     58005463.0         Africa                  Tanzania    TZA       63177   \n",
       "2       603253.0         Africa                 W. Sahara    ESH         907   \n",
       "3     37589262.0  North America                    Canada    CAN     1736425   \n",
       "4    328239523.0  North America  United States of America    USA    21433226   \n",
       "..           ...            ...                       ...    ...         ...   \n",
       "172    6944975.0         Europe                    Serbia    SRB       51475   \n",
       "173     622137.0         Europe                Montenegro    MNE        5542   \n",
       "174    1794248.0         Europe                    Kosovo    -99        7926   \n",
       "175    1394973.0  North America       Trinidad and Tobago    TTO       24269   \n",
       "176   11062113.0         Africa                  S. Sudan    SSD       11998   \n",
       "\n",
       "                                              geometry  \n",
       "0    MULTIPOLYGON (((180.00000 -16.06713, 180.00000...  \n",
       "1    POLYGON ((33.90371 -0.95000, 34.07262 -1.05982...  \n",
       "2    POLYGON ((-8.66559 27.65643, -8.66512 27.58948...  \n",
       "3    MULTIPOLYGON (((-122.84000 49.00000, -122.9742...  \n",
       "4    MULTIPOLYGON (((-122.84000 49.00000, -120.0000...  \n",
       "..                                                 ...  \n",
       "172  POLYGON ((18.82982 45.90887, 18.82984 45.90888...  \n",
       "173  POLYGON ((20.07070 42.58863, 19.80161 42.50009...  \n",
       "174  POLYGON ((20.59025 41.85541, 20.52295 42.21787...  \n",
       "175  POLYGON ((-61.68000 10.76000, -61.10500 10.890...  \n",
       "176  POLYGON ((30.83385 3.50917, 29.95350 4.17370, ...  \n",
       "\n",
       "[177 rows x 6 columns]"
      ]
     },
     "execution_count": 17,
     "metadata": {},
     "output_type": "execute_result"
    }
   ],
   "source": [
    "world = gpd.read_file(gpd.datasets.get_path(\"naturalearth_lowres\"))\n",
    "world"
   ]
  },
  {
   "cell_type": "code",
   "execution_count": 18,
   "metadata": {},
   "outputs": [
    {
     "data": {
      "application/vnd.plotly.v1+json": {
       "config": {
        "plotlyServerURL": "https://plot.ly"
       },
       "data": [
        {
         "hovertemplate": "Location=A<br>Year=2019<br>Month=%{x}<br>Value=%{y}<extra></extra>",
         "legendgroup": "A",
         "line": {
          "color": "#636efa",
          "dash": "solid"
         },
         "marker": {
          "symbol": "circle"
         },
         "mode": "lines",
         "name": "A",
         "orientation": "v",
         "showlegend": true,
         "type": "scatter",
         "x": [
          "Jan",
          "Feb",
          "Mar"
         ],
         "xaxis": "x",
         "y": [
          10,
          15,
          20
         ],
         "yaxis": "y"
        },
        {
         "hovertemplate": "Location=B<br>Year=2020<br>Month=%{x}<br>Value=%{y}<extra></extra>",
         "legendgroup": "B",
         "line": {
          "color": "#EF553B",
          "dash": "solid"
         },
         "marker": {
          "symbol": "circle"
         },
         "mode": "lines",
         "name": "B",
         "orientation": "v",
         "showlegend": true,
         "type": "scatter",
         "x": [
          "Jan",
          "Feb",
          "Mar"
         ],
         "xaxis": "x2",
         "y": [
          12,
          18,
          22
         ],
         "yaxis": "y2"
        },
        {
         "hovertemplate": "Location=C<br>Year=2021<br>Month=%{x}<br>Value=%{y}<extra></extra>",
         "legendgroup": "C",
         "line": {
          "color": "#00cc96",
          "dash": "solid"
         },
         "marker": {
          "symbol": "circle"
         },
         "mode": "lines",
         "name": "C",
         "orientation": "v",
         "showlegend": true,
         "type": "scatter",
         "x": [
          "Jan",
          "Feb",
          "Mar"
         ],
         "xaxis": "x3",
         "y": [
          8,
          16,
          24
         ],
         "yaxis": "y3"
        }
       ],
       "layout": {
        "annotations": [
         {
          "font": {},
          "showarrow": false,
          "text": "Year=2019",
          "x": 0.15999999999999998,
          "xanchor": "center",
          "xref": "paper",
          "y": 1,
          "yanchor": "bottom",
          "yref": "paper"
         },
         {
          "font": {},
          "showarrow": false,
          "text": "Year=2020",
          "x": 0.49999999999999994,
          "xanchor": "center",
          "xref": "paper",
          "y": 1,
          "yanchor": "bottom",
          "yref": "paper"
         },
         {
          "font": {},
          "showarrow": false,
          "text": "Year=2021",
          "x": 0.8399999999999999,
          "xanchor": "center",
          "xref": "paper",
          "y": 1,
          "yanchor": "bottom",
          "yref": "paper"
         }
        ],
        "legend": {
         "title": {
          "text": "Location"
         },
         "tracegroupgap": 0
        },
        "template": {
         "data": {
          "bar": [
           {
            "error_x": {
             "color": "#2a3f5f"
            },
            "error_y": {
             "color": "#2a3f5f"
            },
            "marker": {
             "line": {
              "color": "#E5ECF6",
              "width": 0.5
             },
             "pattern": {
              "fillmode": "overlay",
              "size": 10,
              "solidity": 0.2
             }
            },
            "type": "bar"
           }
          ],
          "barpolar": [
           {
            "marker": {
             "line": {
              "color": "#E5ECF6",
              "width": 0.5
             },
             "pattern": {
              "fillmode": "overlay",
              "size": 10,
              "solidity": 0.2
             }
            },
            "type": "barpolar"
           }
          ],
          "carpet": [
           {
            "aaxis": {
             "endlinecolor": "#2a3f5f",
             "gridcolor": "white",
             "linecolor": "white",
             "minorgridcolor": "white",
             "startlinecolor": "#2a3f5f"
            },
            "baxis": {
             "endlinecolor": "#2a3f5f",
             "gridcolor": "white",
             "linecolor": "white",
             "minorgridcolor": "white",
             "startlinecolor": "#2a3f5f"
            },
            "type": "carpet"
           }
          ],
          "choropleth": [
           {
            "colorbar": {
             "outlinewidth": 0,
             "ticks": ""
            },
            "type": "choropleth"
           }
          ],
          "contour": [
           {
            "colorbar": {
             "outlinewidth": 0,
             "ticks": ""
            },
            "colorscale": [
             [
              0,
              "#0d0887"
             ],
             [
              0.1111111111111111,
              "#46039f"
             ],
             [
              0.2222222222222222,
              "#7201a8"
             ],
             [
              0.3333333333333333,
              "#9c179e"
             ],
             [
              0.4444444444444444,
              "#bd3786"
             ],
             [
              0.5555555555555556,
              "#d8576b"
             ],
             [
              0.6666666666666666,
              "#ed7953"
             ],
             [
              0.7777777777777778,
              "#fb9f3a"
             ],
             [
              0.8888888888888888,
              "#fdca26"
             ],
             [
              1,
              "#f0f921"
             ]
            ],
            "type": "contour"
           }
          ],
          "contourcarpet": [
           {
            "colorbar": {
             "outlinewidth": 0,
             "ticks": ""
            },
            "type": "contourcarpet"
           }
          ],
          "heatmap": [
           {
            "colorbar": {
             "outlinewidth": 0,
             "ticks": ""
            },
            "colorscale": [
             [
              0,
              "#0d0887"
             ],
             [
              0.1111111111111111,
              "#46039f"
             ],
             [
              0.2222222222222222,
              "#7201a8"
             ],
             [
              0.3333333333333333,
              "#9c179e"
             ],
             [
              0.4444444444444444,
              "#bd3786"
             ],
             [
              0.5555555555555556,
              "#d8576b"
             ],
             [
              0.6666666666666666,
              "#ed7953"
             ],
             [
              0.7777777777777778,
              "#fb9f3a"
             ],
             [
              0.8888888888888888,
              "#fdca26"
             ],
             [
              1,
              "#f0f921"
             ]
            ],
            "type": "heatmap"
           }
          ],
          "heatmapgl": [
           {
            "colorbar": {
             "outlinewidth": 0,
             "ticks": ""
            },
            "colorscale": [
             [
              0,
              "#0d0887"
             ],
             [
              0.1111111111111111,
              "#46039f"
             ],
             [
              0.2222222222222222,
              "#7201a8"
             ],
             [
              0.3333333333333333,
              "#9c179e"
             ],
             [
              0.4444444444444444,
              "#bd3786"
             ],
             [
              0.5555555555555556,
              "#d8576b"
             ],
             [
              0.6666666666666666,
              "#ed7953"
             ],
             [
              0.7777777777777778,
              "#fb9f3a"
             ],
             [
              0.8888888888888888,
              "#fdca26"
             ],
             [
              1,
              "#f0f921"
             ]
            ],
            "type": "heatmapgl"
           }
          ],
          "histogram": [
           {
            "marker": {
             "pattern": {
              "fillmode": "overlay",
              "size": 10,
              "solidity": 0.2
             }
            },
            "type": "histogram"
           }
          ],
          "histogram2d": [
           {
            "colorbar": {
             "outlinewidth": 0,
             "ticks": ""
            },
            "colorscale": [
             [
              0,
              "#0d0887"
             ],
             [
              0.1111111111111111,
              "#46039f"
             ],
             [
              0.2222222222222222,
              "#7201a8"
             ],
             [
              0.3333333333333333,
              "#9c179e"
             ],
             [
              0.4444444444444444,
              "#bd3786"
             ],
             [
              0.5555555555555556,
              "#d8576b"
             ],
             [
              0.6666666666666666,
              "#ed7953"
             ],
             [
              0.7777777777777778,
              "#fb9f3a"
             ],
             [
              0.8888888888888888,
              "#fdca26"
             ],
             [
              1,
              "#f0f921"
             ]
            ],
            "type": "histogram2d"
           }
          ],
          "histogram2dcontour": [
           {
            "colorbar": {
             "outlinewidth": 0,
             "ticks": ""
            },
            "colorscale": [
             [
              0,
              "#0d0887"
             ],
             [
              0.1111111111111111,
              "#46039f"
             ],
             [
              0.2222222222222222,
              "#7201a8"
             ],
             [
              0.3333333333333333,
              "#9c179e"
             ],
             [
              0.4444444444444444,
              "#bd3786"
             ],
             [
              0.5555555555555556,
              "#d8576b"
             ],
             [
              0.6666666666666666,
              "#ed7953"
             ],
             [
              0.7777777777777778,
              "#fb9f3a"
             ],
             [
              0.8888888888888888,
              "#fdca26"
             ],
             [
              1,
              "#f0f921"
             ]
            ],
            "type": "histogram2dcontour"
           }
          ],
          "mesh3d": [
           {
            "colorbar": {
             "outlinewidth": 0,
             "ticks": ""
            },
            "type": "mesh3d"
           }
          ],
          "parcoords": [
           {
            "line": {
             "colorbar": {
              "outlinewidth": 0,
              "ticks": ""
             }
            },
            "type": "parcoords"
           }
          ],
          "pie": [
           {
            "automargin": true,
            "type": "pie"
           }
          ],
          "scatter": [
           {
            "fillpattern": {
             "fillmode": "overlay",
             "size": 10,
             "solidity": 0.2
            },
            "type": "scatter"
           }
          ],
          "scatter3d": [
           {
            "line": {
             "colorbar": {
              "outlinewidth": 0,
              "ticks": ""
             }
            },
            "marker": {
             "colorbar": {
              "outlinewidth": 0,
              "ticks": ""
             }
            },
            "type": "scatter3d"
           }
          ],
          "scattercarpet": [
           {
            "marker": {
             "colorbar": {
              "outlinewidth": 0,
              "ticks": ""
             }
            },
            "type": "scattercarpet"
           }
          ],
          "scattergeo": [
           {
            "marker": {
             "colorbar": {
              "outlinewidth": 0,
              "ticks": ""
             }
            },
            "type": "scattergeo"
           }
          ],
          "scattergl": [
           {
            "marker": {
             "colorbar": {
              "outlinewidth": 0,
              "ticks": ""
             }
            },
            "type": "scattergl"
           }
          ],
          "scattermapbox": [
           {
            "marker": {
             "colorbar": {
              "outlinewidth": 0,
              "ticks": ""
             }
            },
            "type": "scattermapbox"
           }
          ],
          "scatterpolar": [
           {
            "marker": {
             "colorbar": {
              "outlinewidth": 0,
              "ticks": ""
             }
            },
            "type": "scatterpolar"
           }
          ],
          "scatterpolargl": [
           {
            "marker": {
             "colorbar": {
              "outlinewidth": 0,
              "ticks": ""
             }
            },
            "type": "scatterpolargl"
           }
          ],
          "scatterternary": [
           {
            "marker": {
             "colorbar": {
              "outlinewidth": 0,
              "ticks": ""
             }
            },
            "type": "scatterternary"
           }
          ],
          "surface": [
           {
            "colorbar": {
             "outlinewidth": 0,
             "ticks": ""
            },
            "colorscale": [
             [
              0,
              "#0d0887"
             ],
             [
              0.1111111111111111,
              "#46039f"
             ],
             [
              0.2222222222222222,
              "#7201a8"
             ],
             [
              0.3333333333333333,
              "#9c179e"
             ],
             [
              0.4444444444444444,
              "#bd3786"
             ],
             [
              0.5555555555555556,
              "#d8576b"
             ],
             [
              0.6666666666666666,
              "#ed7953"
             ],
             [
              0.7777777777777778,
              "#fb9f3a"
             ],
             [
              0.8888888888888888,
              "#fdca26"
             ],
             [
              1,
              "#f0f921"
             ]
            ],
            "type": "surface"
           }
          ],
          "table": [
           {
            "cells": {
             "fill": {
              "color": "#EBF0F8"
             },
             "line": {
              "color": "white"
             }
            },
            "header": {
             "fill": {
              "color": "#C8D4E3"
             },
             "line": {
              "color": "white"
             }
            },
            "type": "table"
           }
          ]
         },
         "layout": {
          "annotationdefaults": {
           "arrowcolor": "#2a3f5f",
           "arrowhead": 0,
           "arrowwidth": 1
          },
          "autotypenumbers": "strict",
          "coloraxis": {
           "colorbar": {
            "outlinewidth": 0,
            "ticks": ""
           }
          },
          "colorscale": {
           "diverging": [
            [
             0,
             "#8e0152"
            ],
            [
             0.1,
             "#c51b7d"
            ],
            [
             0.2,
             "#de77ae"
            ],
            [
             0.3,
             "#f1b6da"
            ],
            [
             0.4,
             "#fde0ef"
            ],
            [
             0.5,
             "#f7f7f7"
            ],
            [
             0.6,
             "#e6f5d0"
            ],
            [
             0.7,
             "#b8e186"
            ],
            [
             0.8,
             "#7fbc41"
            ],
            [
             0.9,
             "#4d9221"
            ],
            [
             1,
             "#276419"
            ]
           ],
           "sequential": [
            [
             0,
             "#0d0887"
            ],
            [
             0.1111111111111111,
             "#46039f"
            ],
            [
             0.2222222222222222,
             "#7201a8"
            ],
            [
             0.3333333333333333,
             "#9c179e"
            ],
            [
             0.4444444444444444,
             "#bd3786"
            ],
            [
             0.5555555555555556,
             "#d8576b"
            ],
            [
             0.6666666666666666,
             "#ed7953"
            ],
            [
             0.7777777777777778,
             "#fb9f3a"
            ],
            [
             0.8888888888888888,
             "#fdca26"
            ],
            [
             1,
             "#f0f921"
            ]
           ],
           "sequentialminus": [
            [
             0,
             "#0d0887"
            ],
            [
             0.1111111111111111,
             "#46039f"
            ],
            [
             0.2222222222222222,
             "#7201a8"
            ],
            [
             0.3333333333333333,
             "#9c179e"
            ],
            [
             0.4444444444444444,
             "#bd3786"
            ],
            [
             0.5555555555555556,
             "#d8576b"
            ],
            [
             0.6666666666666666,
             "#ed7953"
            ],
            [
             0.7777777777777778,
             "#fb9f3a"
            ],
            [
             0.8888888888888888,
             "#fdca26"
            ],
            [
             1,
             "#f0f921"
            ]
           ]
          },
          "colorway": [
           "#636efa",
           "#EF553B",
           "#00cc96",
           "#ab63fa",
           "#FFA15A",
           "#19d3f3",
           "#FF6692",
           "#B6E880",
           "#FF97FF",
           "#FECB52"
          ],
          "font": {
           "color": "#2a3f5f"
          },
          "geo": {
           "bgcolor": "white",
           "lakecolor": "white",
           "landcolor": "#E5ECF6",
           "showlakes": true,
           "showland": true,
           "subunitcolor": "white"
          },
          "hoverlabel": {
           "align": "left"
          },
          "hovermode": "closest",
          "mapbox": {
           "style": "light"
          },
          "paper_bgcolor": "white",
          "plot_bgcolor": "#E5ECF6",
          "polar": {
           "angularaxis": {
            "gridcolor": "white",
            "linecolor": "white",
            "ticks": ""
           },
           "bgcolor": "#E5ECF6",
           "radialaxis": {
            "gridcolor": "white",
            "linecolor": "white",
            "ticks": ""
           }
          },
          "scene": {
           "xaxis": {
            "backgroundcolor": "#E5ECF6",
            "gridcolor": "white",
            "gridwidth": 2,
            "linecolor": "white",
            "showbackground": true,
            "ticks": "",
            "zerolinecolor": "white"
           },
           "yaxis": {
            "backgroundcolor": "#E5ECF6",
            "gridcolor": "white",
            "gridwidth": 2,
            "linecolor": "white",
            "showbackground": true,
            "ticks": "",
            "zerolinecolor": "white"
           },
           "zaxis": {
            "backgroundcolor": "#E5ECF6",
            "gridcolor": "white",
            "gridwidth": 2,
            "linecolor": "white",
            "showbackground": true,
            "ticks": "",
            "zerolinecolor": "white"
           }
          },
          "shapedefaults": {
           "line": {
            "color": "#2a3f5f"
           }
          },
          "ternary": {
           "aaxis": {
            "gridcolor": "white",
            "linecolor": "white",
            "ticks": ""
           },
           "baxis": {
            "gridcolor": "white",
            "linecolor": "white",
            "ticks": ""
           },
           "bgcolor": "#E5ECF6",
           "caxis": {
            "gridcolor": "white",
            "linecolor": "white",
            "ticks": ""
           }
          },
          "title": {
           "x": 0.05
          },
          "xaxis": {
           "automargin": true,
           "gridcolor": "white",
           "linecolor": "white",
           "ticks": "",
           "title": {
            "standoff": 15
           },
           "zerolinecolor": "white",
           "zerolinewidth": 2
          },
          "yaxis": {
           "automargin": true,
           "gridcolor": "white",
           "linecolor": "white",
           "ticks": "",
           "title": {
            "standoff": 15
           },
           "zerolinecolor": "white",
           "zerolinewidth": 2
          }
         }
        },
        "title": {
         "text": "Information from each month and from different locations for different years"
        },
        "xaxis": {
         "anchor": "y",
         "domain": [
          0,
          0.31999999999999995
         ],
         "title": {
          "text": "Month"
         }
        },
        "xaxis2": {
         "anchor": "y2",
         "domain": [
          0.33999999999999997,
          0.6599999999999999
         ],
         "matches": "x",
         "title": {
          "text": "Month"
         }
        },
        "xaxis3": {
         "anchor": "y3",
         "domain": [
          0.6799999999999999,
          0.9999999999999999
         ],
         "matches": "x",
         "title": {
          "text": "Month"
         }
        },
        "yaxis": {
         "anchor": "x",
         "domain": [
          0,
          1
         ],
         "title": {
          "text": "Value"
         }
        },
        "yaxis2": {
         "anchor": "x2",
         "domain": [
          0,
          1
         ],
         "matches": "y",
         "showticklabels": false
        },
        "yaxis3": {
         "anchor": "x3",
         "domain": [
          0,
          1
         ],
         "matches": "y",
         "showticklabels": false
        }
       }
      },
      "text/html": [
       "<div>                            <div id=\"2a779497-e299-420a-a2ac-2fefde99f3af\" class=\"plotly-graph-div\" style=\"height:525px; width:100%;\"></div>            <script type=\"text/javascript\">                require([\"plotly\"], function(Plotly) {                    window.PLOTLYENV=window.PLOTLYENV || {};                                    if (document.getElementById(\"2a779497-e299-420a-a2ac-2fefde99f3af\")) {                    Plotly.newPlot(                        \"2a779497-e299-420a-a2ac-2fefde99f3af\",                        [{\"hovertemplate\":\"Location=A<br>Year=2019<br>Month=%{x}<br>Value=%{y}<extra></extra>\",\"legendgroup\":\"A\",\"line\":{\"color\":\"#636efa\",\"dash\":\"solid\"},\"marker\":{\"symbol\":\"circle\"},\"mode\":\"lines\",\"name\":\"A\",\"orientation\":\"v\",\"showlegend\":true,\"x\":[\"Jan\",\"Feb\",\"Mar\"],\"xaxis\":\"x\",\"y\":[10,15,20],\"yaxis\":\"y\",\"type\":\"scatter\"},{\"hovertemplate\":\"Location=B<br>Year=2020<br>Month=%{x}<br>Value=%{y}<extra></extra>\",\"legendgroup\":\"B\",\"line\":{\"color\":\"#EF553B\",\"dash\":\"solid\"},\"marker\":{\"symbol\":\"circle\"},\"mode\":\"lines\",\"name\":\"B\",\"orientation\":\"v\",\"showlegend\":true,\"x\":[\"Jan\",\"Feb\",\"Mar\"],\"xaxis\":\"x2\",\"y\":[12,18,22],\"yaxis\":\"y2\",\"type\":\"scatter\"},{\"hovertemplate\":\"Location=C<br>Year=2021<br>Month=%{x}<br>Value=%{y}<extra></extra>\",\"legendgroup\":\"C\",\"line\":{\"color\":\"#00cc96\",\"dash\":\"solid\"},\"marker\":{\"symbol\":\"circle\"},\"mode\":\"lines\",\"name\":\"C\",\"orientation\":\"v\",\"showlegend\":true,\"x\":[\"Jan\",\"Feb\",\"Mar\"],\"xaxis\":\"x3\",\"y\":[8,16,24],\"yaxis\":\"y3\",\"type\":\"scatter\"}],                        {\"template\":{\"data\":{\"histogram2dcontour\":[{\"type\":\"histogram2dcontour\",\"colorbar\":{\"outlinewidth\":0,\"ticks\":\"\"},\"colorscale\":[[0.0,\"#0d0887\"],[0.1111111111111111,\"#46039f\"],[0.2222222222222222,\"#7201a8\"],[0.3333333333333333,\"#9c179e\"],[0.4444444444444444,\"#bd3786\"],[0.5555555555555556,\"#d8576b\"],[0.6666666666666666,\"#ed7953\"],[0.7777777777777778,\"#fb9f3a\"],[0.8888888888888888,\"#fdca26\"],[1.0,\"#f0f921\"]]}],\"choropleth\":[{\"type\":\"choropleth\",\"colorbar\":{\"outlinewidth\":0,\"ticks\":\"\"}}],\"histogram2d\":[{\"type\":\"histogram2d\",\"colorbar\":{\"outlinewidth\":0,\"ticks\":\"\"},\"colorscale\":[[0.0,\"#0d0887\"],[0.1111111111111111,\"#46039f\"],[0.2222222222222222,\"#7201a8\"],[0.3333333333333333,\"#9c179e\"],[0.4444444444444444,\"#bd3786\"],[0.5555555555555556,\"#d8576b\"],[0.6666666666666666,\"#ed7953\"],[0.7777777777777778,\"#fb9f3a\"],[0.8888888888888888,\"#fdca26\"],[1.0,\"#f0f921\"]]}],\"heatmap\":[{\"type\":\"heatmap\",\"colorbar\":{\"outlinewidth\":0,\"ticks\":\"\"},\"colorscale\":[[0.0,\"#0d0887\"],[0.1111111111111111,\"#46039f\"],[0.2222222222222222,\"#7201a8\"],[0.3333333333333333,\"#9c179e\"],[0.4444444444444444,\"#bd3786\"],[0.5555555555555556,\"#d8576b\"],[0.6666666666666666,\"#ed7953\"],[0.7777777777777778,\"#fb9f3a\"],[0.8888888888888888,\"#fdca26\"],[1.0,\"#f0f921\"]]}],\"heatmapgl\":[{\"type\":\"heatmapgl\",\"colorbar\":{\"outlinewidth\":0,\"ticks\":\"\"},\"colorscale\":[[0.0,\"#0d0887\"],[0.1111111111111111,\"#46039f\"],[0.2222222222222222,\"#7201a8\"],[0.3333333333333333,\"#9c179e\"],[0.4444444444444444,\"#bd3786\"],[0.5555555555555556,\"#d8576b\"],[0.6666666666666666,\"#ed7953\"],[0.7777777777777778,\"#fb9f3a\"],[0.8888888888888888,\"#fdca26\"],[1.0,\"#f0f921\"]]}],\"contourcarpet\":[{\"type\":\"contourcarpet\",\"colorbar\":{\"outlinewidth\":0,\"ticks\":\"\"}}],\"contour\":[{\"type\":\"contour\",\"colorbar\":{\"outlinewidth\":0,\"ticks\":\"\"},\"colorscale\":[[0.0,\"#0d0887\"],[0.1111111111111111,\"#46039f\"],[0.2222222222222222,\"#7201a8\"],[0.3333333333333333,\"#9c179e\"],[0.4444444444444444,\"#bd3786\"],[0.5555555555555556,\"#d8576b\"],[0.6666666666666666,\"#ed7953\"],[0.7777777777777778,\"#fb9f3a\"],[0.8888888888888888,\"#fdca26\"],[1.0,\"#f0f921\"]]}],\"surface\":[{\"type\":\"surface\",\"colorbar\":{\"outlinewidth\":0,\"ticks\":\"\"},\"colorscale\":[[0.0,\"#0d0887\"],[0.1111111111111111,\"#46039f\"],[0.2222222222222222,\"#7201a8\"],[0.3333333333333333,\"#9c179e\"],[0.4444444444444444,\"#bd3786\"],[0.5555555555555556,\"#d8576b\"],[0.6666666666666666,\"#ed7953\"],[0.7777777777777778,\"#fb9f3a\"],[0.8888888888888888,\"#fdca26\"],[1.0,\"#f0f921\"]]}],\"mesh3d\":[{\"type\":\"mesh3d\",\"colorbar\":{\"outlinewidth\":0,\"ticks\":\"\"}}],\"scatter\":[{\"fillpattern\":{\"fillmode\":\"overlay\",\"size\":10,\"solidity\":0.2},\"type\":\"scatter\"}],\"parcoords\":[{\"type\":\"parcoords\",\"line\":{\"colorbar\":{\"outlinewidth\":0,\"ticks\":\"\"}}}],\"scatterpolargl\":[{\"type\":\"scatterpolargl\",\"marker\":{\"colorbar\":{\"outlinewidth\":0,\"ticks\":\"\"}}}],\"bar\":[{\"error_x\":{\"color\":\"#2a3f5f\"},\"error_y\":{\"color\":\"#2a3f5f\"},\"marker\":{\"line\":{\"color\":\"#E5ECF6\",\"width\":0.5},\"pattern\":{\"fillmode\":\"overlay\",\"size\":10,\"solidity\":0.2}},\"type\":\"bar\"}],\"scattergeo\":[{\"type\":\"scattergeo\",\"marker\":{\"colorbar\":{\"outlinewidth\":0,\"ticks\":\"\"}}}],\"scatterpolar\":[{\"type\":\"scatterpolar\",\"marker\":{\"colorbar\":{\"outlinewidth\":0,\"ticks\":\"\"}}}],\"histogram\":[{\"marker\":{\"pattern\":{\"fillmode\":\"overlay\",\"size\":10,\"solidity\":0.2}},\"type\":\"histogram\"}],\"scattergl\":[{\"type\":\"scattergl\",\"marker\":{\"colorbar\":{\"outlinewidth\":0,\"ticks\":\"\"}}}],\"scatter3d\":[{\"type\":\"scatter3d\",\"line\":{\"colorbar\":{\"outlinewidth\":0,\"ticks\":\"\"}},\"marker\":{\"colorbar\":{\"outlinewidth\":0,\"ticks\":\"\"}}}],\"scattermapbox\":[{\"type\":\"scattermapbox\",\"marker\":{\"colorbar\":{\"outlinewidth\":0,\"ticks\":\"\"}}}],\"scatterternary\":[{\"type\":\"scatterternary\",\"marker\":{\"colorbar\":{\"outlinewidth\":0,\"ticks\":\"\"}}}],\"scattercarpet\":[{\"type\":\"scattercarpet\",\"marker\":{\"colorbar\":{\"outlinewidth\":0,\"ticks\":\"\"}}}],\"carpet\":[{\"aaxis\":{\"endlinecolor\":\"#2a3f5f\",\"gridcolor\":\"white\",\"linecolor\":\"white\",\"minorgridcolor\":\"white\",\"startlinecolor\":\"#2a3f5f\"},\"baxis\":{\"endlinecolor\":\"#2a3f5f\",\"gridcolor\":\"white\",\"linecolor\":\"white\",\"minorgridcolor\":\"white\",\"startlinecolor\":\"#2a3f5f\"},\"type\":\"carpet\"}],\"table\":[{\"cells\":{\"fill\":{\"color\":\"#EBF0F8\"},\"line\":{\"color\":\"white\"}},\"header\":{\"fill\":{\"color\":\"#C8D4E3\"},\"line\":{\"color\":\"white\"}},\"type\":\"table\"}],\"barpolar\":[{\"marker\":{\"line\":{\"color\":\"#E5ECF6\",\"width\":0.5},\"pattern\":{\"fillmode\":\"overlay\",\"size\":10,\"solidity\":0.2}},\"type\":\"barpolar\"}],\"pie\":[{\"automargin\":true,\"type\":\"pie\"}]},\"layout\":{\"autotypenumbers\":\"strict\",\"colorway\":[\"#636efa\",\"#EF553B\",\"#00cc96\",\"#ab63fa\",\"#FFA15A\",\"#19d3f3\",\"#FF6692\",\"#B6E880\",\"#FF97FF\",\"#FECB52\"],\"font\":{\"color\":\"#2a3f5f\"},\"hovermode\":\"closest\",\"hoverlabel\":{\"align\":\"left\"},\"paper_bgcolor\":\"white\",\"plot_bgcolor\":\"#E5ECF6\",\"polar\":{\"bgcolor\":\"#E5ECF6\",\"angularaxis\":{\"gridcolor\":\"white\",\"linecolor\":\"white\",\"ticks\":\"\"},\"radialaxis\":{\"gridcolor\":\"white\",\"linecolor\":\"white\",\"ticks\":\"\"}},\"ternary\":{\"bgcolor\":\"#E5ECF6\",\"aaxis\":{\"gridcolor\":\"white\",\"linecolor\":\"white\",\"ticks\":\"\"},\"baxis\":{\"gridcolor\":\"white\",\"linecolor\":\"white\",\"ticks\":\"\"},\"caxis\":{\"gridcolor\":\"white\",\"linecolor\":\"white\",\"ticks\":\"\"}},\"coloraxis\":{\"colorbar\":{\"outlinewidth\":0,\"ticks\":\"\"}},\"colorscale\":{\"sequential\":[[0.0,\"#0d0887\"],[0.1111111111111111,\"#46039f\"],[0.2222222222222222,\"#7201a8\"],[0.3333333333333333,\"#9c179e\"],[0.4444444444444444,\"#bd3786\"],[0.5555555555555556,\"#d8576b\"],[0.6666666666666666,\"#ed7953\"],[0.7777777777777778,\"#fb9f3a\"],[0.8888888888888888,\"#fdca26\"],[1.0,\"#f0f921\"]],\"sequentialminus\":[[0.0,\"#0d0887\"],[0.1111111111111111,\"#46039f\"],[0.2222222222222222,\"#7201a8\"],[0.3333333333333333,\"#9c179e\"],[0.4444444444444444,\"#bd3786\"],[0.5555555555555556,\"#d8576b\"],[0.6666666666666666,\"#ed7953\"],[0.7777777777777778,\"#fb9f3a\"],[0.8888888888888888,\"#fdca26\"],[1.0,\"#f0f921\"]],\"diverging\":[[0,\"#8e0152\"],[0.1,\"#c51b7d\"],[0.2,\"#de77ae\"],[0.3,\"#f1b6da\"],[0.4,\"#fde0ef\"],[0.5,\"#f7f7f7\"],[0.6,\"#e6f5d0\"],[0.7,\"#b8e186\"],[0.8,\"#7fbc41\"],[0.9,\"#4d9221\"],[1,\"#276419\"]]},\"xaxis\":{\"gridcolor\":\"white\",\"linecolor\":\"white\",\"ticks\":\"\",\"title\":{\"standoff\":15},\"zerolinecolor\":\"white\",\"automargin\":true,\"zerolinewidth\":2},\"yaxis\":{\"gridcolor\":\"white\",\"linecolor\":\"white\",\"ticks\":\"\",\"title\":{\"standoff\":15},\"zerolinecolor\":\"white\",\"automargin\":true,\"zerolinewidth\":2},\"scene\":{\"xaxis\":{\"backgroundcolor\":\"#E5ECF6\",\"gridcolor\":\"white\",\"linecolor\":\"white\",\"showbackground\":true,\"ticks\":\"\",\"zerolinecolor\":\"white\",\"gridwidth\":2},\"yaxis\":{\"backgroundcolor\":\"#E5ECF6\",\"gridcolor\":\"white\",\"linecolor\":\"white\",\"showbackground\":true,\"ticks\":\"\",\"zerolinecolor\":\"white\",\"gridwidth\":2},\"zaxis\":{\"backgroundcolor\":\"#E5ECF6\",\"gridcolor\":\"white\",\"linecolor\":\"white\",\"showbackground\":true,\"ticks\":\"\",\"zerolinecolor\":\"white\",\"gridwidth\":2}},\"shapedefaults\":{\"line\":{\"color\":\"#2a3f5f\"}},\"annotationdefaults\":{\"arrowcolor\":\"#2a3f5f\",\"arrowhead\":0,\"arrowwidth\":1},\"geo\":{\"bgcolor\":\"white\",\"landcolor\":\"#E5ECF6\",\"subunitcolor\":\"white\",\"showland\":true,\"showlakes\":true,\"lakecolor\":\"white\"},\"title\":{\"x\":0.05},\"mapbox\":{\"style\":\"light\"}}},\"xaxis\":{\"anchor\":\"y\",\"domain\":[0.0,0.31999999999999995],\"title\":{\"text\":\"Month\"}},\"yaxis\":{\"anchor\":\"x\",\"domain\":[0.0,1.0],\"title\":{\"text\":\"Value\"}},\"xaxis2\":{\"anchor\":\"y2\",\"domain\":[0.33999999999999997,0.6599999999999999],\"matches\":\"x\",\"title\":{\"text\":\"Month\"}},\"yaxis2\":{\"anchor\":\"x2\",\"domain\":[0.0,1.0],\"matches\":\"y\",\"showticklabels\":false},\"xaxis3\":{\"anchor\":\"y3\",\"domain\":[0.6799999999999999,0.9999999999999999],\"matches\":\"x\",\"title\":{\"text\":\"Month\"}},\"yaxis3\":{\"anchor\":\"x3\",\"domain\":[0.0,1.0],\"matches\":\"y\",\"showticklabels\":false},\"annotations\":[{\"font\":{},\"showarrow\":false,\"text\":\"Year=2019\",\"x\":0.15999999999999998,\"xanchor\":\"center\",\"xref\":\"paper\",\"y\":1.0,\"yanchor\":\"bottom\",\"yref\":\"paper\"},{\"font\":{},\"showarrow\":false,\"text\":\"Year=2020\",\"x\":0.49999999999999994,\"xanchor\":\"center\",\"xref\":\"paper\",\"y\":1.0,\"yanchor\":\"bottom\",\"yref\":\"paper\"},{\"font\":{},\"showarrow\":false,\"text\":\"Year=2021\",\"x\":0.8399999999999999,\"xanchor\":\"center\",\"xref\":\"paper\",\"y\":1.0,\"yanchor\":\"bottom\",\"yref\":\"paper\"}],\"legend\":{\"title\":{\"text\":\"Location\"},\"tracegroupgap\":0},\"title\":{\"text\":\"Information from each month and from different locations for different years\"}},                        {\"responsive\": true}                    ).then(function(){\n",
       "                            \n",
       "var gd = document.getElementById('2a779497-e299-420a-a2ac-2fefde99f3af');\n",
       "var x = new MutationObserver(function (mutations, observer) {{\n",
       "        var display = window.getComputedStyle(gd).display;\n",
       "        if (!display || display === 'none') {{\n",
       "            console.log([gd, 'removed!']);\n",
       "            Plotly.purge(gd);\n",
       "            observer.disconnect();\n",
       "        }}\n",
       "}});\n",
       "\n",
       "// Listen for the removal of the full notebook cells\n",
       "var notebookContainer = gd.closest('#notebook-container');\n",
       "if (notebookContainer) {{\n",
       "    x.observe(notebookContainer, {childList: true});\n",
       "}}\n",
       "\n",
       "// Listen for the clearing of the current output cell\n",
       "var outputEl = gd.closest('.output');\n",
       "if (outputEl) {{\n",
       "    x.observe(outputEl, {childList: true});\n",
       "}}\n",
       "\n",
       "                        })                };                });            </script>        </div>"
      ]
     },
     "metadata": {},
     "output_type": "display_data"
    }
   ],
   "source": [
    "import pandas as pd\n",
    "import plotly.express as px\n",
    "\n",
    "# create sample data\n",
    "data = pd.DataFrame({\n",
    "    'Year': [2019, 2019, 2019, 2020, 2020, 2020, 2021, 2021, 2021],\n",
    "    'Month': ['Jan', 'Feb', 'Mar', 'Jan', 'Feb', 'Mar', 'Jan', 'Feb', 'Mar'],\n",
    "    'Location': ['A', 'A', 'A', 'B', 'B', 'B', 'C', 'C', 'C'],\n",
    "    'Value': [10, 15, 20, 12, 18, 22, 8, 16, 24]\n",
    "})\n",
    "\n",
    "# create line chart with Plotly Express\n",
    "fig = px.line(data, x='Month', y='Value', color='Location', facet_col='Year', \n",
    "              title='Information from each month and from different locations for different years')\n",
    "fig.show()\n"
   ]
  },
  {
   "cell_type": "code",
   "execution_count": 19,
   "metadata": {},
   "outputs": [
    {
     "name": "stderr",
     "output_type": "stream",
     "text": [
      "/tmp/ipykernel_13325/245872567.py:11: UserWarning:\n",
      "\n",
      "Column names longer than 10 characters will be truncated when saved to ESRI Shapefile.\n",
      "\n"
     ]
    }
   ],
   "source": [
    "dataset = pd.read_csv(\"/home/adzavon/Documents/MSC_Data_Analysis/map_for conflicts/conflicts_true.csv\")\n",
    "dataset['Region'] = dataset['Region'].replace(['Hauts-Bassins'], 'Haut-Bassins')\n",
    "dataset['Region'] = dataset['Region'].replace(['sahel'], 'Sahel')\n",
    "dataset['Region'] = dataset['Region'].replace(['boucle du Mouhoun'], 'Boucle du Mouhoun')\n",
    "\n",
    "# merge shapefile and csv\n",
    "shapefile = gpd.read_file(\"/home/adzavon/Documents/MSC_Data_Analysis/study area maping/gadm36_BFA_shp/gadm36_BFA_shp/gadm36_BFA_1.shp\")\n",
    "shapefile_map = shapefile[[\"NAME_1\",\"geometry\"]]\n",
    "merged = shapefile_map.merge(dataset, left_on=\"NAME_1\", right_on=\"Region\")\n",
    "simplify_merge_old = merged[[\"Year\",\"Region\",\"EVENT_TYPE\",\"SUM_CONFLICTS\",\"geometry\"]]\n",
    "simplify_merge = simplify_merge_old.set_index(\"Region\").to_file(\"/home/adzavon/Documents/MSC_Data_Analysis/map_for conflicts/New_shapefile_to_use.shp\")"
   ]
  },
  {
   "cell_type": "code",
   "execution_count": 20,
   "metadata": {},
   "outputs": [
    {
     "data": {
      "text/html": [
       "<div>\n",
       "<style scoped>\n",
       "    .dataframe tbody tr th:only-of-type {\n",
       "        vertical-align: middle;\n",
       "    }\n",
       "\n",
       "    .dataframe tbody tr th {\n",
       "        vertical-align: top;\n",
       "    }\n",
       "\n",
       "    .dataframe thead th {\n",
       "        text-align: right;\n",
       "    }\n",
       "</style>\n",
       "<table border=\"1\" class=\"dataframe\">\n",
       "  <thead>\n",
       "    <tr style=\"text-align: right;\">\n",
       "      <th></th>\n",
       "      <th>EVENT_DATE</th>\n",
       "      <th>Battles</th>\n",
       "      <th>Explosions/Remote violence</th>\n",
       "      <th>Protests</th>\n",
       "      <th>Riots</th>\n",
       "      <th>Strategic developments</th>\n",
       "      <th>Violence against civilians</th>\n",
       "      <th>Floods</th>\n",
       "      <th>Storms</th>\n",
       "      <th>Internal Displaced People</th>\n",
       "    </tr>\n",
       "  </thead>\n",
       "  <tbody>\n",
       "    <tr>\n",
       "      <th>0</th>\n",
       "      <td>2018-07</td>\n",
       "      <td>5</td>\n",
       "      <td>0</td>\n",
       "      <td>1</td>\n",
       "      <td>0</td>\n",
       "      <td>1</td>\n",
       "      <td>9</td>\n",
       "      <td>18.0</td>\n",
       "      <td>3.0</td>\n",
       "      <td>27347.0</td>\n",
       "    </tr>\n",
       "    <tr>\n",
       "      <th>1</th>\n",
       "      <td>2018-08</td>\n",
       "      <td>7</td>\n",
       "      <td>3</td>\n",
       "      <td>3</td>\n",
       "      <td>2</td>\n",
       "      <td>3</td>\n",
       "      <td>3</td>\n",
       "      <td>211.0</td>\n",
       "      <td>4.0</td>\n",
       "      <td>27571.0</td>\n",
       "    </tr>\n",
       "    <tr>\n",
       "      <th>2</th>\n",
       "      <td>2018-09</td>\n",
       "      <td>8</td>\n",
       "      <td>5</td>\n",
       "      <td>4</td>\n",
       "      <td>2</td>\n",
       "      <td>11</td>\n",
       "      <td>20</td>\n",
       "      <td>33.0</td>\n",
       "      <td>0.0</td>\n",
       "      <td>38982.0</td>\n",
       "    </tr>\n",
       "    <tr>\n",
       "      <th>3</th>\n",
       "      <td>2018-10</td>\n",
       "      <td>9</td>\n",
       "      <td>3</td>\n",
       "      <td>16</td>\n",
       "      <td>1</td>\n",
       "      <td>12</td>\n",
       "      <td>19</td>\n",
       "      <td>3.0</td>\n",
       "      <td>0.0</td>\n",
       "      <td>39731.0</td>\n",
       "    </tr>\n",
       "    <tr>\n",
       "      <th>4</th>\n",
       "      <td>2018-11</td>\n",
       "      <td>15</td>\n",
       "      <td>2</td>\n",
       "      <td>24</td>\n",
       "      <td>11</td>\n",
       "      <td>15</td>\n",
       "      <td>20</td>\n",
       "      <td>NaN</td>\n",
       "      <td>NaN</td>\n",
       "      <td>37367.0</td>\n",
       "    </tr>\n",
       "  </tbody>\n",
       "</table>\n",
       "</div>"
      ],
      "text/plain": [
       "  EVENT_DATE  Battles  Explosions/Remote violence  Protests  Riots  \\\n",
       "0    2018-07        5                           0         1      0   \n",
       "1    2018-08        7                           3         3      2   \n",
       "2    2018-09        8                           5         4      2   \n",
       "3    2018-10        9                           3        16      1   \n",
       "4    2018-11       15                           2        24     11   \n",
       "\n",
       "   Strategic developments  Violence against civilians  Floods  Storms  \\\n",
       "0                       1                           9    18.0     3.0   \n",
       "1                       3                           3   211.0     4.0   \n",
       "2                      11                          20    33.0     0.0   \n",
       "3                      12                          19     3.0     0.0   \n",
       "4                      15                          20     NaN     NaN   \n",
       "\n",
       "   Internal Displaced People  \n",
       "0                    27347.0  \n",
       "1                    27571.0  \n",
       "2                    38982.0  \n",
       "3                    39731.0  \n",
       "4                    37367.0  "
      ]
     },
     "execution_count": 20,
     "metadata": {},
     "output_type": "execute_result"
    }
   ],
   "source": [
    "import numpy as np\n",
    "import pandas as pd\n",
    "import seaborn as sns\n",
    "import matplotlib.pyplot as plt\n",
    "\n",
    "# import the dataset\n",
    "\n",
    "data_cut = pd.read_csv\\\n",
    "(\"/home/adzavon/Documents/MSC_Data_Analysis/merge for forecasting/second_to_forecast (another copy).csv\")\n",
    "\n",
    "\n",
    "data_cut.head()"
   ]
  },
  {
   "cell_type": "code",
   "execution_count": 21,
   "metadata": {},
   "outputs": [],
   "source": [
    "\n",
    "# fill the missing values in \"Floods\",\"Storms\" by \"0\"\n",
    "data_cut[[\"Floods\",\"Storms\"]] = data_cut[[\"Floods\",\"Storms\"]].fillna(\"0\")\n",
    "\n",
    "\n",
    "# change \"Floods\",\"Storms\" data type into intger\n",
    "\n",
    "data_cut[\"Floods\"] = data_cut[\"Floods\"].astype(int)\n",
    "data_cut[\"Storms\"] = data_cut[\"Storms\"].astype(int)\n",
    "\n",
    "#linear method to fill the missang value\n",
    "# data_cut = data_cut.fillna(method=\"ffill\")\n",
    "data_cut = data_cut.interpolate(method ='linear', limit_direction ='forward')\n",
    "data_cut[\"Internal Displaced People\"] = data_cut[\"Internal Displaced People\"].astype(int)\n",
    "#data_cut.iloc[:,1:]\n",
    "\n",
    "\n",
    "\n",
    "data_cut[\"Violent events\"] = data_cut[\"Battles\"] + data_cut[\"Explosions/Remote violence\"] + data_cut[\"Violence against civilians\"]\n",
    "data_cut[\"Demonstrations\"] = data_cut[\"Protests\"] + data_cut[\"Riots\"]\n",
    "data_cut[\"Non-violent actions\"] = data_cut[\"Strategic developments\"]\n",
    "\n",
    "# data_cut_ = data_cut[[\"Violent events\",\"Demonstrations\",\"Non-violent actions\",\"Internal Displaced People\"]]\n",
    "# data_cut_"
   ]
  },
  {
   "cell_type": "code",
   "execution_count": 58,
   "metadata": {},
   "outputs": [],
   "source": [
    "data_cut_new = data_cut[[\"EVENT_DATE\",\"Violent events\",\"Demonstrations\",\"Non-violent actions\",\"Floods\",\"Storms\",\"Internal Displaced People\"]]\n",
    "data_cut_new.to_csv(\"/home/adzavon/Documents/MSC_Data_Analysis/merge for forecasting/New_we_work.csv\")"
   ]
  },
  {
   "cell_type": "code",
   "execution_count": null,
   "metadata": {},
   "outputs": [],
   "source": []
  }
 ],
 "metadata": {
  "kernelspec": {
   "display_name": "Python 3 (ipykernel)",
   "language": "python",
   "name": "python3"
  },
  "language_info": {
   "codemirror_mode": {
    "name": "ipython",
    "version": 3
   },
   "file_extension": ".py",
   "mimetype": "text/x-python",
   "name": "python",
   "nbconvert_exporter": "python",
   "pygments_lexer": "ipython3",
   "version": "3.10.9"
  },
  "vscode": {
   "interpreter": {
    "hash": "0666006bbc1a7ef306406a8146ab0213b71e0870da88a4b2206930d8b51906d3"
   }
  }
 },
 "nbformat": 4,
 "nbformat_minor": 2
}
